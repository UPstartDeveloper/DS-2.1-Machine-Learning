{
 "cells": [
  {
   "cell_type": "markdown",
   "metadata": {},
   "source": [
    "## Apply PCA and Clustering to Wholesale Customer Data\n",
    "\n",
    "In this homework, we'll examine the [**_Wholesale Customers Dataset_**](https://archive.ics.uci.edu/ml/datasets/Wholesale+customers), which we'll get from the UCI Machine Learning Datasets repository.  This dataset contains the purchase records from clients of a wholesale distributor.  It details the total annual purchases across categories seen in the data dictionary below:\n",
    "\n",
    "**Category** | **Description** \n",
    ":-----:|:-----:\n",
    "CHANNEL| 1= Hotel/Restaurant/Cafe, 2=Retailer (Nominal)\n",
    "REGION| Geographic region of Portugal for each order (Nominal)\n",
    "FRESH| Annual spending (m.u.) on fresh products (Continuous);\n",
    "MILK| Annual spending (m.u.) on milk products (Continuous); \n",
    "GROCERY| Annual spending (m.u.)on grocery products (Continuous); \n",
    "FROZEN| Annual spending (m.u.)on frozen products (Continuous) \n",
    "DETERGENTS\\_PAPER| Annual spending (m.u.) on detergents and paper products (Continuous) \n",
    "DELICATESSEN| Annual spending (m.u.)on and delicatessen products (Continuous); \n",
    "\n",
    "**_TASK:_** Read in `wholesale_customers_data.csv` from the `datasets` folder and store in a dataframe.  Store the `Channel` column in a separate variable, and then drop the `Channel` and `Region` columns from the dataframe. Scale the data and use PCA to engineer new features (Principal Components).  Print out the explained variance for each principal component. "
   ]
  },
  {
   "cell_type": "markdown",
   "metadata": {},
   "source": [
    "### Imports"
   ]
  },
  {
   "cell_type": "code",
   "execution_count": 84,
   "metadata": {},
   "outputs": [],
   "source": [
    "import pandas as pd\n",
    "import numpy as np\n",
    "from sklearn.preprocessing import StandardScaler\n",
    "from sklearn.decomposition import PCA\n",
    "from sklearn.cluster import KMeans\n",
    "import matplotlib.pyplot as plt\n",
    "%matplotlib inline\n",
    "from sklearn.metrics import confusion_matrix"
   ]
  },
  {
   "cell_type": "markdown",
   "metadata": {},
   "source": [
    "## 1. Reading in Data"
   ]
  },
  {
   "cell_type": "code",
   "execution_count": 85,
   "metadata": {},
   "outputs": [
    {
     "data": {
      "text/html": [
       "<div>\n",
       "<style scoped>\n",
       "    .dataframe tbody tr th:only-of-type {\n",
       "        vertical-align: middle;\n",
       "    }\n",
       "\n",
       "    .dataframe tbody tr th {\n",
       "        vertical-align: top;\n",
       "    }\n",
       "\n",
       "    .dataframe thead th {\n",
       "        text-align: right;\n",
       "    }\n",
       "</style>\n",
       "<table border=\"1\" class=\"dataframe\">\n",
       "  <thead>\n",
       "    <tr style=\"text-align: right;\">\n",
       "      <th></th>\n",
       "      <th>Channel</th>\n",
       "      <th>Region</th>\n",
       "      <th>Fresh</th>\n",
       "      <th>Milk</th>\n",
       "      <th>Grocery</th>\n",
       "      <th>Frozen</th>\n",
       "      <th>Detergents_Paper</th>\n",
       "      <th>Delicassen</th>\n",
       "    </tr>\n",
       "  </thead>\n",
       "  <tbody>\n",
       "    <tr>\n",
       "      <th>0</th>\n",
       "      <td>2</td>\n",
       "      <td>3</td>\n",
       "      <td>12669</td>\n",
       "      <td>9656</td>\n",
       "      <td>7561</td>\n",
       "      <td>214</td>\n",
       "      <td>2674</td>\n",
       "      <td>1338</td>\n",
       "    </tr>\n",
       "    <tr>\n",
       "      <th>1</th>\n",
       "      <td>2</td>\n",
       "      <td>3</td>\n",
       "      <td>7057</td>\n",
       "      <td>9810</td>\n",
       "      <td>9568</td>\n",
       "      <td>1762</td>\n",
       "      <td>3293</td>\n",
       "      <td>1776</td>\n",
       "    </tr>\n",
       "    <tr>\n",
       "      <th>2</th>\n",
       "      <td>2</td>\n",
       "      <td>3</td>\n",
       "      <td>6353</td>\n",
       "      <td>8808</td>\n",
       "      <td>7684</td>\n",
       "      <td>2405</td>\n",
       "      <td>3516</td>\n",
       "      <td>7844</td>\n",
       "    </tr>\n",
       "    <tr>\n",
       "      <th>3</th>\n",
       "      <td>1</td>\n",
       "      <td>3</td>\n",
       "      <td>13265</td>\n",
       "      <td>1196</td>\n",
       "      <td>4221</td>\n",
       "      <td>6404</td>\n",
       "      <td>507</td>\n",
       "      <td>1788</td>\n",
       "    </tr>\n",
       "    <tr>\n",
       "      <th>4</th>\n",
       "      <td>2</td>\n",
       "      <td>3</td>\n",
       "      <td>22615</td>\n",
       "      <td>5410</td>\n",
       "      <td>7198</td>\n",
       "      <td>3915</td>\n",
       "      <td>1777</td>\n",
       "      <td>5185</td>\n",
       "    </tr>\n",
       "  </tbody>\n",
       "</table>\n",
       "</div>"
      ],
      "text/plain": [
       "   Channel  Region  Fresh  Milk  Grocery  Frozen  Detergents_Paper  Delicassen\n",
       "0        2       3  12669  9656     7561     214              2674        1338\n",
       "1        2       3   7057  9810     9568    1762              3293        1776\n",
       "2        2       3   6353  8808     7684    2405              3516        7844\n",
       "3        1       3  13265  1196     4221    6404               507        1788\n",
       "4        2       3  22615  5410     7198    3915              1777        5185"
      ]
     },
     "execution_count": 85,
     "metadata": {},
     "output_type": "execute_result"
    }
   ],
   "source": [
    "df = pd.read_csv('../Notebooks/Datasets/wholesale_customers_data.csv')\n",
    "df.head()"
   ]
  },
  {
   "cell_type": "markdown",
   "metadata": {},
   "source": [
    "## 2. Store Channel in a Separate Variable"
   ]
  },
  {
   "cell_type": "code",
   "execution_count": 86,
   "metadata": {},
   "outputs": [],
   "source": [
    "label = df['Channel']"
   ]
  },
  {
   "cell_type": "markdown",
   "metadata": {},
   "source": [
    "## 3. Droppping Columns"
   ]
  },
  {
   "cell_type": "code",
   "execution_count": 87,
   "metadata": {},
   "outputs": [],
   "source": [
    "df_removed = df.drop(columns=['Channel', 'Region'])"
   ]
  },
  {
   "cell_type": "markdown",
   "metadata": {},
   "source": [
    "## 4. Scaling the Data"
   ]
  },
  {
   "cell_type": "code",
   "execution_count": 88,
   "metadata": {},
   "outputs": [
    {
     "data": {
      "text/plain": [
       "array([[ 0.05293319, -0.39130197, -0.44702926, ...,  0.20032554,\n",
       "        -0.13538389, -0.72930698],\n",
       "       [ 0.52356777,  0.54445767,  0.40853771, ...,  1.31467078,\n",
       "        -0.51753572, -0.5559243 ],\n",
       "       [-0.04111489,  0.17031835, -0.0281571 , ...,  2.34838631,\n",
       "        -0.60251388, -0.57322717],\n",
       "       [-0.58936716, -0.27013618, -0.13753572, ..., -0.54337975,\n",
       "        -0.41944059, -0.62009417],\n",
       "       [-0.04356873,  0.08640684,  0.13323164, ...,  2.51121768,\n",
       "        -0.56977032, -0.50488752],\n",
       "       [-0.06633906,  0.08915105,  2.24329255, ...,  0.12145607,\n",
       "         0.21304614, -0.52286938]])"
      ]
     },
     "execution_count": 88,
     "metadata": {},
     "output_type": "execute_result"
    }
   ],
   "source": [
    "# standard scaling is utilized\n",
    "scaler = StandardScaler()\n",
    "X_scaled = scaler.fit_transform(df_removed)\n",
    "X_scaled.T"
   ]
  },
  {
   "cell_type": "markdown",
   "metadata": {},
   "source": [
    "## 5. Performing PCA"
   ]
  },
  {
   "cell_type": "code",
   "execution_count": 109,
   "metadata": {},
   "outputs": [
    {
     "name": "stdout",
     "output_type": "stream",
     "text": [
      "[2.65099857 1.70646229]\n",
      "[0.44082893 0.283764  ]\n",
      "[0.44082893 0.72459292]\n"
     ]
    }
   ],
   "source": [
    "# Principal Component Analysis by way of scikit-learn\n",
    "pca = PCA(n_components=2)\n",
    "X_r = pca.fit_transform(X_scaled)\n",
    "# Explained Variance for Each Component - how much information did we preserve?\n",
    "print(pca.explained_variance_)\n",
    "print(pca.explained_variance_ratio_)\n",
    "print(pca.explained_variance_ratio_.cumsum())"
   ]
  },
  {
   "cell_type": "markdown",
   "metadata": {},
   "source": [
    "## K-Means, but Without All the Supervision\n",
    " \n",
    "\n",
    "**_Challenge:_** Use K-Means clustering on the `wholesale_customers` dataset, and then again on a version of this dataset transformed by PCA.  \n",
    "\n",
    "1. Read in the data from the `wholesale_customers_data.csv` file contained within the datasets folder.  \n",
    "\n",
    "2. Store the `Channel` column in a separate variable, and then drop the `Region` and `Channel` columns from the dataframe.  `Channel` will act as our labels to tell us what class of customer each datapoint actually is, in case we want to check the accuracy of our clustering.  \n",
    "\n",
    "3.  Scale the data, fit a k-means object to it, and then visualize the data and the clustering.  \n",
    "\n",
    "4.  Use PCA to transform the data, and then use k-means clustering on it to see if our results are any better.  \n",
    "\n",
    "**Challenge:_** Use the confusion matrix function to create a confusion matrix and see how accurate our clustering algorithms were.  Which did better--scaled data, or data transformed by PCA?\n",
    "\n"
   ]
  },
  {
   "cell_type": "markdown",
   "metadata": {},
   "source": [
    "## 6. K-Means Clustering on Scaled Dataset (n=6 components)"
   ]
  },
  {
   "cell_type": "code",
   "execution_count": 123,
   "metadata": {},
   "outputs": [
    {
     "name": "stdout",
     "output_type": "stream",
     "text": [
      "We should have 2 clusters.\n"
     ]
    }
   ],
   "source": [
    "def make_km_model(X, y, num_clusters=None):\n",
    "    '''Return a trained instance of K Means Algorithm.'''\n",
    "    # First Question: How Many Clusters Should We Have?\n",
    "    if num_clusters is None:\n",
    "        num_clusters = y.nunique()\n",
    "        print(f'We should have {num_clusters} clusters.')\n",
    "    # Execution of the K-Means Clustering Algorithm in scikit-learn\n",
    "    km = KMeans(n_clusters=num_clusters)\n",
    "    km.fit(X)\n",
    "    return km\n",
    "\n",
    "km = make_km_model(X_scaled, label)"
   ]
  },
  {
   "cell_type": "code",
   "execution_count": 124,
   "metadata": {},
   "outputs": [
    {
     "data": {
      "image/png": "[encoded data removed]",
      "text/plain": [
       "<Figure size 432x288 with 1 Axes>"
      ]
     },
     "metadata": {
      "needs_background": "light"
     },
     "output_type": "display_data"
    }
   ],
   "source": [
    "# Visualize the Data and Clusterization\n",
    "plt.scatter(X_scaled[:, 0], X_scaled[:, 1])\n",
    "plt.title('K-Means Clustering without PCA')\n",
    "plt.show()"
   ]
  },
  {
   "cell_type": "markdown",
   "metadata": {},
   "source": [
    "## 7. Evaluation of K-Means Model on Scaled Data"
   ]
  },
  {
   "cell_type": "code",
   "execution_count": 125,
   "metadata": {},
   "outputs": [
    {
     "name": "stdout",
     "output_type": "stream",
     "text": [
      "CONFUSION MATRIX METRICS\n",
      "Hit Rate: 87.76%\n",
      "Selectivity: 74.68%\n",
      "Precision: 30.28%\n",
      "Negative Predictive Value: 97.99%\n",
      "Miss Rate: 12.24%\n",
      "Fall-Out Rate: 25.319999999999997%\n",
      "False Discovery Rate: 69.72%\n",
      "False Omission Rate: 2.01%\n",
      "Threat Score: 29.049999999999997%\n",
      "Accuracy: 76.14%\n"
     ]
    }
   ],
   "source": [
    "def calculate_rate(numerator, denominator):\n",
    "        '''Return the percent value for a statistical formula.'''\n",
    "        return round(numerator/denominator, 4) * 100\n",
    "\n",
    "def print_confusion_metrics(cm):\n",
    "    '''Prints metrics of the model, derived from the confusion matrix.'''\n",
    "    TN, FP, FN, TP = cm.ravel()\n",
    "\n",
    "    print('CONFUSION MATRIX METRICS')\n",
    "    print(f'Hit Rate: {calculate_rate(TP, TP + FN)}%')\n",
    "    print(f'Selectivity: {calculate_rate(TN, TN + FP)}%')\n",
    "    print(f'Precision: {calculate_rate(TP, TP + FP)}%')\n",
    "    print(f'Negative Predictive Value: {calculate_rate(TN, TN + FN)}%')\n",
    "    print(f'Miss Rate: {calculate_rate(FN, TP + FN)}%')\n",
    "    print(f'Fall-Out Rate: {calculate_rate(FP, TN + FP)}%')\n",
    "    print(f'False Discovery Rate: {calculate_rate(FP, TP + FP)}%')\n",
    "    print(f'False Omission Rate: {calculate_rate(FN, FN + TN)}%')\n",
    "    print(f'Threat Score: {calculate_rate(TP, TP + FN + FP)}%')\n",
    "    print(f'Accuracy: {calculate_rate(TP + TN, TP + TN + FP + FN)}%')\n",
    "\n",
    "def evaluate_model(model, X, y_test):\n",
    "    '''Report statistics about K-Means instance, using the confusion matrix.'''\n",
    "    # Evaluate Model\n",
    "    y_pred = model.predict(X)\n",
    "\n",
    "    # for computing confusion, scale the predictions to be a list of 1's and 2's\n",
    "    predictions = [pred + 1 for pred in y_pred]\n",
    "    cm = confusion_matrix(predictions, y_test)\n",
    "    print_confusion_metrics(cm)\n",
    "    \n",
    "evaluate_model(km, X_scaled, label)"
   ]
  },
  {
   "cell_type": "markdown",
   "metadata": {},
   "source": [
    "## 8. K-Means Clustering on PCA Components (n=2 components)"
   ]
  },
  {
   "cell_type": "code",
   "execution_count": 127,
   "metadata": {},
   "outputs": [
    {
     "data": {
      "image/png": "[encoded data removed]",
      "text/plain": [
       "<Figure size 432x288 with 1 Axes>"
      ]
     },
     "metadata": {
      "needs_background": "light"
     },
     "output_type": "display_data"
    }
   ],
   "source": [
    "# Execute the K Means Algorithm on PCA components\n",
    "km = make_km_model(X_r, label, 2)\n",
    "\n",
    "# Visualize the Data and Clusterization\n",
    "plt.scatter(X_r[:, 0], X_r[:, 1])\n",
    "plt.title('K-Means Clustering wit PCA')\n",
    "plt.show()"
   ]
  },
  {
   "cell_type": "markdown",
   "metadata": {},
   "source": [
    "## 9. Evaluation of K-Means Model on PCA Components"
   ]
  },
  {
   "cell_type": "code",
   "execution_count": 128,
   "metadata": {},
   "outputs": [
    {
     "name": "stdout",
     "output_type": "stream",
     "text": [
      "CONFUSION MATRIX METRICS\n",
      "Hit Rate: 95.56%\n",
      "Selectivity: 74.94%\n",
      "Precision: 30.28%\n",
      "Negative Predictive Value: 99.33%\n",
      "Miss Rate: 4.44%\n",
      "Fall-Out Rate: 25.06%\n",
      "False Discovery Rate: 69.72%\n",
      "False Omission Rate: 0.67%\n",
      "Threat Score: 29.86%\n",
      "Accuracy: 77.05%\n"
     ]
    }
   ],
   "source": [
    "evaluate_model(km, X_r, label)"
   ]
  },
  {
   "cell_type": "markdown",
   "metadata": {},
   "source": [
    "## 10. Conclusion - which model was better?\n",
    "For this dataset, the K-Means Clustering algorithm performed better overall when using **PCA** to reduce dimensionality of the data, as opposed to data which had only been scaled using standardization. As seen in the print outs, the K-Means instance that was trained on PCA data **outperformed** the one that was not on:\n",
    "- Hit Rate\n",
    "- Selectivity\n",
    "- Negative Predictive Value\n",
    "- Threat Score\n",
    "- Accuracy\n",
    "\n",
    "The rest of the metrics the two models performed the same, with the exception of **False Omission Rate**, in which the *PCA K-Means instance had a lower score than its scaled counter part.* \n",
    "\n",
    "For future improvements, I would rerun this experiment to compare the performance of a KMeans object trained on data that was scaled using *Min Max* (as opposed to Standard Scaling), versus a KMeans trained using PCA components of such scaled data."
   ]
  }
 ],
 "metadata": {
  "kernelspec": {
   "display_name": "Python 3",
   "language": "python",
   "name": "python3"
  },
  "language_info": {
   "codemirror_mode": {
    "name": "ipython",
    "version": 3
   },
   "file_extension": ".py",
   "mimetype": "text/x-python",
   "name": "python",
   "nbconvert_exporter": "python",
   "pygments_lexer": "ipython3",
   "version": "3.7.6"
  }
 },
 "nbformat": 4,
 "nbformat_minor": 2
}
