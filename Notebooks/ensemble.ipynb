{
 "cells": [
  {
   "cell_type": "markdown",
   "metadata": {},
   "source": [
    "<img src=\"Images/ens_slide_1.png\" width=\"700\" height=\"700\">\n",
    "\n",
    "<img src=\"Images/ens_slide_2.png\" width=\"700\" height=\"700\">"
   ]
  },
  {
   "cell_type": "markdown",
   "metadata": {},
   "source": [
    "## Ensemble Methods \n",
    "\n",
    "Ensemble Methods are machine learning algorithms that rely on the \"Wisdom of the Crowd\"\n",
    "\n",
    "Many weak algorithms working together do better than 1 big, monolithic algorithm\n",
    "\n",
    "They are two major groups for ensemble methods: **Random Forests** and **Gradient Boosted Trees**"
   ]
  },
  {
   "cell_type": "markdown",
   "metadata": {},
   "source": [
    "## Random Forest\n",
    "\n",
    "Random Forest is a name for a type of supervised learning\n",
    "\n",
    "***Random Forest*** is just a collection of many small ***Decision Trees***\n",
    "\n",
    "Assume we have a dataset with 10 columns, and thousands of rows. The Random forest algorithm would start by randomly selecting around 2/3 of the rows, and then randomly selecting 6 columns in the data \n",
    "\n",
    "<img src=\"Images/random_forest.png\" width=\"400\" height=\"400\">"
   ]
  },
  {
   "cell_type": "markdown",
   "metadata": {},
   "source": [
    "### Activity: Apply Random Forest to iris dataset \n",
    "\n",
    "Read : https://www.datacamp.com/community/tutorials/random-forests-classifier-python\n",
    "\n",
    "Finish the turorial on your own, and then answer the following questions:\n",
    "\n",
    "- What was the feature importance as described in the tutorial: `clf.feature_importances_`\n",
    "\n",
    "- Change number of estimator (`n_estimators`) and compare the accuracy result"
   ]
  },
  {
   "cell_type": "code",
   "execution_count": 12,
   "metadata": {},
   "outputs": [
    {
     "name": "stdout",
     "output_type": "stream",
     "text": [
      "Accuracy: 1.0\n"
     ]
    }
   ],
   "source": [
    "#Import scikit-learn dataset library\n",
    "from sklearn import datasets\n",
    "\n",
    "#Load dataset\n",
    "iris = datasets.load_iris()\n",
    "\n",
    "# make dataframe\n",
    "import pandas as pd\n",
    "data=pd.DataFrame({\n",
    "    'sepal length':iris.data[:,0],\n",
    "    'sepal width':iris.data[:,1],\n",
    "    'petal length':iris.data[:,2],\n",
    "    'petal width':iris.data[:,3],\n",
    "    'species':iris.target\n",
    "})\n",
    "data.head()\n",
    "\n",
    "# split the data\n",
    "from sklearn.model_selection import train_test_split\n",
    "\n",
    "X=data[['sepal length', 'sepal width', 'petal length', 'petal width']]  # Features\n",
    "y=data['species']  # Labels\n",
    "\n",
    "# Split dataset into training set and test set\n",
    "X_train, X_test, y_train, y_test = train_test_split(X, y, test_size=0.3) # 70% training and 30% test\n",
    "\n",
    "# apply Random Forest model\n",
    "from sklearn.ensemble import RandomForestClassifier\n",
    "\n",
    "#Create a Gaussian Classifier\n",
    "clf=RandomForestClassifier(n_estimators=100)\n",
    "\n",
    "#Train the model using the training sets y_pred=clf.predict(X_test)\n",
    "clf.fit(X_train,y_train)\n",
    "\n",
    "y_pred=clf.predict(X_test)\n",
    "\n",
    "# evaluate the model\n",
    "from sklearn import metrics\n",
    "# Model Accuracy, how often is the classifier correct?\n",
    "print(\"Accuracy:\",metrics.accuracy_score(y_test, y_pred))"
   ]
  },
  {
   "cell_type": "code",
   "execution_count": 13,
   "metadata": {},
   "outputs": [
    {
     "name": "stdout",
     "output_type": "stream",
     "text": [
      "petal length (cm)    0.458338\n",
      "petal width (cm)     0.401868\n",
      "sepal length (cm)    0.115656\n",
      "sepal width (cm)     0.024138\n",
      "dtype: float64\n"
     ]
    },
    {
     "data": {
      "image/png": "[encoded data removed]",
      "text/plain": [
       "<Figure size 432x288 with 1 Axes>"
      ]
     },
     "metadata": {
      "needs_background": "light"
     },
     "output_type": "display_data"
    }
   ],
   "source": [
    "# Feature Ranking reporting, and visualization\n",
    "feature_imp = pd.Series(clf.feature_importances_,index=iris.feature_names).sort_values(ascending=False)\n",
    "print(feature_imp)\n",
    "\n",
    "import matplotlib.pyplot as plt\n",
    "import seaborn as sns\n",
    "%matplotlib inline\n",
    "# Creating a bar plot\n",
    "sns.barplot(x=feature_imp, y=feature_imp.index)\n",
    "# Add labels to your graph\n",
    "plt.xlabel('Feature Importance Score')\n",
    "plt.ylabel('Features')\n",
    "plt.title(\"Visualizing Important Features\")\n",
    "plt.show()"
   ]
  },
  {
   "cell_type": "code",
   "execution_count": 3,
   "metadata": {},
   "outputs": [
    {
     "data": {
      "text/plain": [
       "1.0"
      ]
     },
     "execution_count": 3,
     "metadata": {},
     "output_type": "execute_result"
    }
   ],
   "source": [
    "# Verify that the feature importances add up to 100%\n",
    "sum(feature_imp)"
   ]
  },
  {
   "cell_type": "markdown",
   "metadata": {},
   "source": [
    "## Gradient Boosting\n",
    "\n",
    "In boosting, the trees are built sequentially such that each subsequent tree aims to reduce the errors of the previous tree\n",
    "\n",
    "The tree that grows next in the sequence **will learn from an updated version of the residuals**\n",
    "\n",
    "- Residuals: The differences between observed and predicted values of data.\n"
   ]
  },
  {
   "cell_type": "markdown",
   "metadata": {},
   "source": [
    "## Activity: We want to build a model for a prediction problem with Boosting method\n",
    "\n",
    "- Consider the following data, where the years of experience is predictor variable (feature) and salary (in thousand dollars) is the target\n",
    "\n",
    "<img src=\"Images/dataset_boosting.png\" width=\"150\" height=\"150\">\n",
    "\n",
    "- Using regression trees as base learners, we can create a model to predict the salary\n",
    "\n",
    "- As the first step, obtain the mean value of target: `F0 = np.mean(Y)` \n",
    "\n",
    "- Now build the simplest decision tree regressor with the Feature as `X` and `Y-F0` as the target: Below is the code"
   ]
  },
  {
   "cell_type": "code",
   "execution_count": 47,
   "metadata": {},
   "outputs": [
    {
     "data": {
      "image/png": "[encoded data removed]",
      "text/plain": [
       "<Figure size 432x288 with 1 Axes>"
      ]
     },
     "metadata": {
      "needs_background": "light"
     },
     "output_type": "display_data"
    }
   ],
   "source": [
    "# Feature, years of work experience\n",
    "X = np.array([5, 7, 12, 23, 25, 28, 29, 34, 35, 40])\n",
    "# Target, salary in in thousand dollars\n",
    "Y = np.array([82, 80, 103, 118, 172, 127, 204, 189, 99, 166])\n",
    "\n",
    "# scatter plot of data\n",
    "fig, ax = plt.subplots()\n",
    "plt.scatter(X, Y)\n",
    "plt.title('Regression of Salary Based on Years of Experience')\n",
    "ax.set_xlabel('Years of Experience in CS')\n",
    "ax.set_ylabel(\"Salary (1000's USD)\")\n",
    "plt.show()"
   ]
  },
  {
   "cell_type": "code",
   "execution_count": 48,
   "metadata": {},
   "outputs": [
    {
     "data": {
      "text/plain": [
       "DecisionTreeRegressor(criterion='mse', max_depth=1, max_features=None,\n",
       "                      max_leaf_nodes=None, min_impurity_decrease=0.0,\n",
       "                      min_impurity_split=None, min_samples_leaf=1,\n",
       "                      min_samples_split=2, min_weight_fraction_leaf=0.0,\n",
       "                      presort=False, random_state=None, splitter='best')"
      ]
     },
     "execution_count": 48,
     "metadata": {},
     "output_type": "execute_result"
    }
   ],
   "source": [
    "#step one to boosting: get mean of target\n",
    "f0 = np.mean(Y)  # aka called F0\n",
    "# then subtract it from every eleme in target, making a new list\n",
    "y_f0 = [y - f0 for y in Y]\n",
    "\n",
    "# apply a Regression Tree model\n",
    "from sklearn.tree import DecisionTreeRegressor\n",
    "regre = DecisionTreeRegressor(max_depth=1)\n",
    "regre.fit(X.reshape(-1, 1), (Y-F0).reshape(-1, 1))"
   ]
  },
  {
   "cell_type": "code",
   "execution_count": 49,
   "metadata": {},
   "outputs": [
    {
     "data": {
      "text/plain": [
       "array([-38.25, -38.25, -38.25, -38.25,  25.5 ,  25.5 ,  25.5 ,  25.5 ,\n",
       "        25.5 ,  25.5 ])"
      ]
     },
     "execution_count": 49,
     "metadata": {},
     "output_type": "execute_result"
    }
   ],
   "source": [
    "from sklearn.tree import DecisionTreeRegressor\n",
    "import numpy as np\n",
    "from sklearn.tree import export_graphviz\n",
    "import pydotplus\n",
    "\n",
    "# Draw graph\n",
    "dot_data = export_graphviz(regre, out_file=None)\n",
    "graph = pydotplus.graph_from_dot_data(dot_data)\n",
    "graph.write_png('simple_reg_tree_step1.png')\n",
    "\n",
    "# call predict\n",
    "h1 = regre.predict(X.reshape(-1, 1))\n",
    "h1"
   ]
  },
  {
   "cell_type": "code",
   "execution_count": 50,
   "metadata": {},
   "outputs": [
    {
     "data": {
      "text/plain": [
       "array([  6.75,   6.75,   6.75,   6.75,   6.75,   6.75,   6.75,   6.75,\n",
       "       -27.  , -27.  ])"
      ]
     },
     "execution_count": 50,
     "metadata": {},
     "output_type": "execute_result"
    }
   ],
   "source": [
    "# add f0 and h1\n",
    "f1 = [num1 + f0 for num1 in h1]\n",
    "\n",
    "# making a new model\n",
    "y_f1 = np.array([y - f for y, f in zip(Y, f1)])\n",
    "regre2 = DecisionTreeRegressor(max_depth=1)\n",
    "regre2.fit(np.array(X).reshape(-1, 1), y_f1)\n",
    "h2 = regre2.predict(X.reshape(-1, 1))\n",
    "h2"
   ]
  },
  {
   "cell_type": "code",
   "execution_count": 55,
   "metadata": {},
   "outputs": [
    {
     "name": "stdout",
     "output_type": "stream",
     "text": [
      "None\n"
     ]
    }
   ],
   "source": [
    "def boosting_function(X, Y, iterations_left, target=None, previous_f=None, predictions=None):\n",
    "    if iterations_left == 0:\n",
    "        return predictions\n",
    "    else:\n",
    "        # init the features to train on\n",
    "        if predictions is None and previous_f is None:\n",
    "            f = np.mean(X)\n",
    "            target = [y - f for y in Y]\n",
    "        else:\n",
    "            f = [num + previous_f for num in predictions]\n",
    "            target = np.array([y - fi for y, fi in zip(Y, f)])\n",
    "            # make a new model\n",
    "            regre = DecisionTreeRegressor(max_depth=1)\n",
    "            # train the model on the features\n",
    "            regre.train(X, target)\n",
    "            # get predictions on X\n",
    "            predictions = regre.predict(X)\n",
    "            return boosting_function(X, Y, iterations_left - 1, target, f, predictions)\n",
    "            \n",
    "output = boosting_function(X, Y, iterations_left=3)\n",
    "print(output)"
   ]
  },
  {
   "cell_type": "markdown",
   "metadata": {},
   "source": [
    "- As the second step: obtain `h1` as the output result of decision tree regressor with `X` as input : `F1 =F0 + h1` \n",
    "\n",
    "- As the third step: build another simple decision tree regressor with Salary as `X` and `Y-F1` as the target\n",
    "\n",
    "- Keep doing these steps we can predict salary, `Y` from years of experience `X` \n",
    "\n",
    "<img src=\"Images/visualization_boosting.png\" width=\"400\" height=\"400\">"
   ]
  },
  {
   "cell_type": "markdown",
   "metadata": {},
   "source": [
    "## Implementation of Boosting "
   ]
  },
  {
   "cell_type": "code",
   "execution_count": 5,
   "metadata": {},
   "outputs": [
    {
     "data": {
      "text/plain": [
       "<matplotlib.collections.PathCollection at 0x13859ef90>"
      ]
     },
     "execution_count": 5,
     "metadata": {},
     "output_type": "execute_result"
    },
    {
     "data": {
      "image/png": "[encoded data removed]",
      "text/plain": [
       "<Figure size 432x288 with 1 Axes>"
      ]
     },
     "metadata": {
      "needs_background": "light"
     },
     "output_type": "display_data"
    }
   ],
   "source": [
    "# Iteratively predict Y from X using Boosting method\n",
    "\n",
    "from sklearn.tree import DecisionTreeRegressor\n",
    "import numpy as np\n",
    "import matplotlib.pyplot as plt\n",
    "\n",
    "# Feature, years of work experience\n",
    "X = np.array([5, 7, 12, 23, 25, 28, 29, 34, 35, 40])\n",
    "# Target, salary in in thousand dollars\n",
    "Y = np.array([82, 80, 103, 118, 172, 127, 204, 189, 99, 166])\n",
    "\n",
    "iteration = 3\n",
    "F = np.zeros((iteration+1, len(Y)))\n",
    "for i in range(iteration):\n",
    "    regre = DecisionTreeRegressor(max_depth=1)\n",
    "    if i == 0:\n",
    "        F[i] = np.mean(Y)\n",
    "    regre.fit(X.reshape(-1, 1), (Y-F[i]).reshape(-1, 1))\n",
    "    # h[i] = regre.predict(X.reshape(-1, 1)), we do not need to define separate variable for h\n",
    "    F[i+1] = F[i] + regre.predict(X.reshape(-1, 1))\n",
    "    \n",
    "    \n",
    "\n",
    "plt.plot(X, F[-1])\n",
    "plt.scatter(X, Y)"
   ]
  },
  {
   "cell_type": "markdown",
   "metadata": {},
   "source": [
    "***Demonstrating the Potential of Boosting*** : https://www.analyticsvidhya.com/blog/2018/09/an-end-to-end-guide-to-understand-the-math-behind-xgboost/\n",
    "\n",
    "## Optional: Pseudocode of Boosting Algorithm:\n",
    "\n",
    "<img src=\"Images/boosting_algorithm.png\" width=\"600\" height=\"600\">"
   ]
  },
  {
   "cell_type": "markdown",
   "metadata": {},
   "source": [
    "## Xgboost\n",
    "\n",
    "XGBoost is short for eXtreme Gradient Boosting. It is\n",
    "\n",
    "· An open-sourced tool\n",
    "\n",
    "    - Computation in C++\n",
    "    \n",
    "    - R/python/Julia interface provided\n",
    "    \n",
    "· A variant of the gradient boosting machine \n",
    "\n",
    "    - Tree-based model\n",
    "    \n",
    "· The winning model for several kaggle competitions\n",
    "\n",
    "Apply Xgboost to boston housing dataset (https://www.datacamp.com/community/tutorials/xgboost-in-python)\n",
    "\n",
    "Plot the feature importance"
   ]
  },
  {
   "cell_type": "markdown",
   "metadata": {},
   "source": [
    "## Optional Reading: XGBoost's hyperparameters\n",
    "\n",
    "At this point, before building the model, you should be aware of the tuning parameters that XGBoost provides. Well, there are a plethora of tuning parameters for tree-based learners in XGBoost and you can read all about them here. But the most common ones that you should know are:\n",
    "\n",
    "***learning_rate***: step size shrinkage used to prevent overfitting. Range is [0,1]\n",
    "\n",
    "***max_depth***: determines how deeply each tree is allowed to grow during any boosting round.\n",
    "\n",
    "***subsample***: percentage of samples used per tree. Low value can lead to underfitting.\n",
    "\n",
    "***colsample_bytree***: percentage of features used per tree. High value can lead to overfitting.\n",
    "\n",
    "***n_estimators***: number of trees you want to build.\n",
    "\n",
    "***objective***: determines the loss function to be used like reg:linear for regression problems, reg:logistic for classification problems with only decision, binary:logistic for classification problems with probability."
   ]
  },
  {
   "cell_type": "markdown",
   "metadata": {},
   "source": [
    "## Summary\n",
    "\n",
    "- Ensemble Methods are machine learning algorithms that rely on the \"Wisdom of the Crowd\"\n",
    "\n",
    "- Many weak algorithms working together do better than 1 big, monolithic algorithm\n",
    "\n",
    "- In boosting, each tree will learn from an updated version of the residuals\n",
    "\n",
    "- They are two major groups for ensemble methods:\n",
    "\n",
    "    - Random Forests \n",
    "    \n",
    "    - Gradient Boosted Trees\n",
    "\n",
    "- The Ensemble methods are able to obtain and rank the feature importance\n"
   ]
  },
  {
   "cell_type": "markdown",
   "metadata": {},
   "source": [
    "## Resources:\n",
    "\n",
    "- https://www.datacamp.com/community/tutorials/random-forests-classifier-python\n",
    "    \n",
    "- https://www.analyticsvidhya.com/blog/2018/09/an-end-to-end-guide-to-understand-the-math-behind-xgboost/\n",
    "\n",
    "- https://www.datacamp.com/community/tutorials/xgboost-in-python\n"
   ]
  }
 ],
 "metadata": {
  "kernelspec": {
   "display_name": "Python 3",
   "language": "python",
   "name": "python3"
  },
  "language_info": {
   "codemirror_mode": {
    "name": "ipython",
    "version": 3
   },
   "file_extension": ".py",
   "mimetype": "text/x-python",
   "name": "python",
   "nbconvert_exporter": "python",
   "pygments_lexer": "ipython3",
   "version": "3.7.6"
  }
 },
 "nbformat": 4,
 "nbformat_minor": 2
}
