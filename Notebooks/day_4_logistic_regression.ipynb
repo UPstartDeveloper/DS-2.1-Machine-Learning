{
 "cells": [
  {
   "cell_type": "code",
   "execution_count": 1,
   "metadata": {},
   "outputs": [],
   "source": [
    "import pandas as pd"
   ]
  },
  {
   "cell_type": "code",
   "execution_count": 2,
   "metadata": {},
   "outputs": [],
   "source": [
    "pima = pd.read_csv('Datasets/diabetes2.csv')"
   ]
  },
  {
   "cell_type": "code",
   "execution_count": 3,
   "metadata": {},
   "outputs": [
    {
     "data": {
      "text/html": [
       "<div>\n",
       "<style scoped>\n",
       "    .dataframe tbody tr th:only-of-type {\n",
       "        vertical-align: middle;\n",
       "    }\n",
       "\n",
       "    .dataframe tbody tr th {\n",
       "        vertical-align: top;\n",
       "    }\n",
       "\n",
       "    .dataframe thead th {\n",
       "        text-align: right;\n",
       "    }\n",
       "</style>\n",
       "<table border=\"1\" class=\"dataframe\">\n",
       "  <thead>\n",
       "    <tr style=\"text-align: right;\">\n",
       "      <th></th>\n",
       "      <th>Pregnancies</th>\n",
       "      <th>Glucose</th>\n",
       "      <th>BloodPressure</th>\n",
       "      <th>SkinThickness</th>\n",
       "      <th>Insulin</th>\n",
       "      <th>BMI</th>\n",
       "      <th>DiabetesPedigreeFunction</th>\n",
       "      <th>Age</th>\n",
       "      <th>Outcome</th>\n",
       "    </tr>\n",
       "  </thead>\n",
       "  <tbody>\n",
       "    <tr>\n",
       "      <th>0</th>\n",
       "      <td>6</td>\n",
       "      <td>148</td>\n",
       "      <td>72</td>\n",
       "      <td>35</td>\n",
       "      <td>0</td>\n",
       "      <td>33.6</td>\n",
       "      <td>0.627</td>\n",
       "      <td>50</td>\n",
       "      <td>1</td>\n",
       "    </tr>\n",
       "    <tr>\n",
       "      <th>1</th>\n",
       "      <td>1</td>\n",
       "      <td>85</td>\n",
       "      <td>66</td>\n",
       "      <td>29</td>\n",
       "      <td>0</td>\n",
       "      <td>26.6</td>\n",
       "      <td>0.351</td>\n",
       "      <td>31</td>\n",
       "      <td>0</td>\n",
       "    </tr>\n",
       "    <tr>\n",
       "      <th>2</th>\n",
       "      <td>8</td>\n",
       "      <td>183</td>\n",
       "      <td>64</td>\n",
       "      <td>0</td>\n",
       "      <td>0</td>\n",
       "      <td>23.3</td>\n",
       "      <td>0.672</td>\n",
       "      <td>32</td>\n",
       "      <td>1</td>\n",
       "    </tr>\n",
       "    <tr>\n",
       "      <th>3</th>\n",
       "      <td>1</td>\n",
       "      <td>89</td>\n",
       "      <td>66</td>\n",
       "      <td>23</td>\n",
       "      <td>94</td>\n",
       "      <td>28.1</td>\n",
       "      <td>0.167</td>\n",
       "      <td>21</td>\n",
       "      <td>0</td>\n",
       "    </tr>\n",
       "    <tr>\n",
       "      <th>4</th>\n",
       "      <td>0</td>\n",
       "      <td>137</td>\n",
       "      <td>40</td>\n",
       "      <td>35</td>\n",
       "      <td>168</td>\n",
       "      <td>43.1</td>\n",
       "      <td>2.288</td>\n",
       "      <td>33</td>\n",
       "      <td>1</td>\n",
       "    </tr>\n",
       "  </tbody>\n",
       "</table>\n",
       "</div>"
      ],
      "text/plain": [
       "   Pregnancies  Glucose  BloodPressure  SkinThickness  Insulin   BMI  \\\n",
       "0            6      148             72             35        0  33.6   \n",
       "1            1       85             66             29        0  26.6   \n",
       "2            8      183             64              0        0  23.3   \n",
       "3            1       89             66             23       94  28.1   \n",
       "4            0      137             40             35      168  43.1   \n",
       "\n",
       "   DiabetesPedigreeFunction  Age  Outcome  \n",
       "0                     0.627   50        1  \n",
       "1                     0.351   31        0  \n",
       "2                     0.672   32        1  \n",
       "3                     0.167   21        0  \n",
       "4                     2.288   33        1  "
      ]
     },
     "execution_count": 3,
     "metadata": {},
     "output_type": "execute_result"
    }
   ],
   "source": [
    "pima.head()"
   ]
  },
  {
   "cell_type": "code",
   "execution_count": 4,
   "metadata": {},
   "outputs": [
    {
     "data": {
      "text/plain": [
       "'In particular, all patients here are females at least 21 years old of Pima Indian heritage\\nLabels:\\n1: diabetes\\n0: no diabetes'"
      ]
     },
     "execution_count": 4,
     "metadata": {},
     "output_type": "execute_result"
    }
   ],
   "source": [
    "'''In particular, all patients here are females at least 21 years old of Pima Indian heritage\n",
    "Labels:\n",
    "1: diabetes\n",
    "0: no diabetes'''"
   ]
  },
  {
   "cell_type": "code",
   "execution_count": 5,
   "metadata": {},
   "outputs": [],
   "source": [
    "feature_cols = ['Pregnancies', 'Insulin', 'BMI', 'Age']"
   ]
  },
  {
   "cell_type": "code",
   "execution_count": 6,
   "metadata": {},
   "outputs": [],
   "source": [
    "# splitting data\n",
    "from sklearn.model_selection import train_test_split\n",
    "X = pima[feature_cols]\n",
    "y = pima['Outcome']\n",
    "X_train, X_test, y_train, y_test = train_test_split(X, y, test_size=0.25, random_state=0)"
   ]
  },
  {
   "cell_type": "code",
   "execution_count": 7,
   "metadata": {},
   "outputs": [
    {
     "name": "stderr",
     "output_type": "stream",
     "text": [
      "/Users/zainraza/Downloads/dev/courses/DS/DS-2.1-Machine-Learning/env/lib/python3.7/site-packages/sklearn/linear_model/logistic.py:432: FutureWarning: Default solver will be changed to 'lbfgs' in 0.22. Specify a solver to silence this warning.\n",
      "  FutureWarning)\n"
     ]
    },
    {
     "data": {
      "text/plain": [
       "LogisticRegression(C=1.0, class_weight=None, dual=False, fit_intercept=True,\n",
       "                   intercept_scaling=1, l1_ratio=None, max_iter=100,\n",
       "                   multi_class='warn', n_jobs=None, penalty='l2',\n",
       "                   random_state=None, solver='warn', tol=0.0001, verbose=0,\n",
       "                   warm_start=False)"
      ]
     },
     "execution_count": 7,
     "metadata": {},
     "output_type": "execute_result"
    }
   ],
   "source": [
    "from sklearn.linear_model import LogisticRegression \n",
    "# training the model\n",
    "logreg = LogisticRegression()\n",
    "logreg.fit(X_train, y_train)"
   ]
  },
  {
   "cell_type": "code",
   "execution_count": 8,
   "metadata": {},
   "outputs": [
    {
     "name": "stdout",
     "output_type": "stream",
     "text": [
      "[0 0 0 0 0 0 0 1 0 1 0 1 0 0 0 0 0 0 0 0 0 0 0 0 0 0 0 1 0 0 0 0 0 0 0 0 0\n",
      " 0 0 0 0 0 0 0 1 0 0 0 0 0 0 0 1 0 0 0 0 1 0 0 1 0 0 0 0 0 0 0 0 0 0 0 0 1\n",
      " 0 0 1 0 0 0 1 0 0 0 0 0 0 0 1 0 0 0 0 0 0 0 1 0 1 0 1 0 0 0 0 0 0 0 0 0 0\n",
      " 1 0 0 0 0 0 0 0 1 0 1 0 1 0 0 0 0 0 0 0 0 0 1 0 0 0 0 0 0 0 0 0 0 0 0 0 0\n",
      " 0 0 0 0 0 0 1 0 1 0 0 1 0 0 0 0 0 0 1 0 0 0 0 0 0 0 1 0 1 0 0 0 0 1 0 0 0\n",
      " 0 0 0 0 0 0 0]\n"
     ]
    }
   ],
   "source": [
    "# make prediction\n",
    "y_pred = logreg.predict(X_test)\n",
    "print(y_pred)"
   ]
  },
  {
   "cell_type": "code",
   "execution_count": 9,
   "metadata": {},
   "outputs": [
    {
     "name": "stdout",
     "output_type": "stream",
     "text": [
      "[1 0 0 1 0 0 1 1 0 0 1 1 0 0 0 0 1 0 0 0 1 1 0 0 0 0 0 0 0 0 0 0 0 0 0 1 1\n",
      " 0 0 0 0 0 0 1 1 0 0 1 1 1 0 0 1 0 0 0 0 1 1 1 1 0 0 1 1 1 1 0 0 0 0 0 0 0\n",
      " 1 0 0 0 0 0 0 0 0 0 0 0 1 0 1 0 0 0 0 0 0 0 1 0 1 1 0 0 0 0 0 1 0 0 0 1 0\n",
      " 1 1 1 1 1 0 0 0 1 0 0 0 0 0 0 0 1 0 0 0 0 0 1 0 1 0 1 1 0 0 0 0 0 1 0 0 0\n",
      " 0 1 0 1 0 0 1 0 0 0 1 1 1 1 0 0 0 1 0 0 0 0 0 0 1 1 0 0 0 0 0 0 1 1 0 1 1\n",
      " 0 1 1 1 0 0 0]\n"
     ]
    }
   ],
   "source": [
    "print(y_test.values.T)  # transposing data for comparison"
   ]
  },
  {
   "cell_type": "code",
   "execution_count": 10,
   "metadata": {},
   "outputs": [],
   "source": [
    "# Stats on y_test\n",
    "actual_diabetes = len([val for val in y_test if val == 1])"
   ]
  },
  {
   "cell_type": "code",
   "execution_count": 11,
   "metadata": {},
   "outputs": [
    {
     "data": {
      "text/plain": [
       "62"
      ]
     },
     "execution_count": 11,
     "metadata": {},
     "output_type": "execute_result"
    }
   ],
   "source": [
    "actual_diabetes"
   ]
  },
  {
   "cell_type": "code",
   "execution_count": 12,
   "metadata": {},
   "outputs": [],
   "source": [
    "actual_non_diabetes = len([val for val in y_test if val == 0])"
   ]
  },
  {
   "cell_type": "code",
   "execution_count": 13,
   "metadata": {},
   "outputs": [
    {
     "data": {
      "text/plain": [
       "130"
      ]
     },
     "execution_count": 13,
     "metadata": {},
     "output_type": "execute_result"
    }
   ],
   "source": [
    "actual_non_diabetes"
   ]
  },
  {
   "cell_type": "code",
   "execution_count": 14,
   "metadata": {},
   "outputs": [
    {
     "data": {
      "text/plain": [
       "0    130\n",
       "1     62\n",
       "Name: Outcome, dtype: int64"
      ]
     },
     "execution_count": 14,
     "metadata": {},
     "output_type": "execute_result"
    }
   ],
   "source": [
    "# alternatively, you use pandas methods to get stats on y_test\n",
    "y_test.value_counts()"
   ]
  },
  {
   "cell_type": "code",
   "execution_count": 15,
   "metadata": {},
   "outputs": [
    {
     "data": {
      "text/plain": [
       "True"
      ]
     },
     "execution_count": 15,
     "metadata": {},
     "output_type": "execute_result"
    }
   ],
   "source": [
    "# why 192 elements in y_test?\n",
    "# verfiy that it's 25% of the data:\n",
    "len(y) * .25 == len(y_test)"
   ]
  },
  {
   "cell_type": "code",
   "execution_count": 16,
   "metadata": {},
   "outputs": [
    {
     "data": {
      "text/plain": [
       "True"
      ]
     },
     "execution_count": 16,
     "metadata": {},
     "output_type": "execute_result"
    }
   ],
   "source": [
    "# do the same for training data\n",
    "len(y) * .75 == len(y_train)"
   ]
  },
  {
   "cell_type": "code",
   "execution_count": 17,
   "metadata": {},
   "outputs": [
    {
     "data": {
      "text/plain": [
       "(array([130.,   0.,   0.,   0.,   0.,   0.,   0.,   0.,   0.,  62.]),\n",
       " array([0. , 0.1, 0.2, 0.3, 0.4, 0.5, 0.6, 0.7, 0.8, 0.9, 1. ]),\n",
       " <a list of 10 Patch objects>)"
      ]
     },
     "execution_count": 17,
     "metadata": {},
     "output_type": "execute_result"
    },
    {
     "data": {
      "image/png": "[encoded data removed]",
      "text/plain": [
       "<Figure size 432x288 with 1 Axes>"
      ]
     },
     "metadata": {
      "needs_background": "light"
     },
     "output_type": "display_data"
    }
   ],
   "source": [
    "import matplotlib.pyplot as plt\n",
    "\n",
    "plt.hist(y_test)"
   ]
  },
  {
   "cell_type": "code",
   "execution_count": 18,
   "metadata": {},
   "outputs": [
    {
     "name": "stdout",
     "output_type": "stream",
     "text": [
      "True Positives: 118\n",
      "True Negatives: 15\n",
      "False Positives: 47\n",
      "False Negatives 12\n"
     ]
    },
    {
     "data": {
      "text/plain": [
       "(15, 118, 12, 47)"
      ]
     },
     "execution_count": 18,
     "metadata": {},
     "output_type": "execute_result"
    }
   ],
   "source": [
    "def compute_confusion_matrix(y_test, y_pred):\n",
    "    '''Counts the true and false negatives and positives computed by a model.'''\n",
    "    tn, tp, fn, fp = 0, 0, 0, 0\n",
    "    \n",
    "    for actual, predicted in zip(y_test, y_pred):\n",
    "        if actual == predicted == 1:\n",
    "            tn += 1\n",
    "        elif actual == predicted == 0:\n",
    "            tp += 1\n",
    "        elif actual == 0 and not predicted == actual:\n",
    "            fn += 1\n",
    "        elif actual == 1 and not predicted == actual:\n",
    "            fp += 1\n",
    "            \n",
    "    assert tn + tp + fn + fp == len(y_test)  # sum of counts = length of y_test/y_pred\n",
    "    print(f'True Positives: {tp}')\n",
    "    print(f'True Negatives: {tn}')\n",
    "    print(f'False Positives: {fp}')\n",
    "    print(f'False Negatives {fn}')\n",
    "    return tn, tp, fn, fp\n",
    "     \n",
    "compute_confusion_matrix(y_test, y_pred)"
   ]
  },
  {
   "cell_type": "code",
   "execution_count": 19,
   "metadata": {},
   "outputs": [
    {
     "name": "stdout",
     "output_type": "stream",
     "text": [
      "[[118  12]\n",
      " [ 47  15]]\n"
     ]
    }
   ],
   "source": [
    "# using the built-in function\n",
    "from sklearn.metrics import confusion_matrix\n",
    "confusion = confusion_matrix(y_test, y_pred)\n",
    "print(confusion)\n",
    "\n",
    "TP = confusion[1, 1]\n",
    "TN = confusion[0, 0]\n",
    "FP = confusion[0, 1]\n",
    "FN = confusion[1, 0]"
   ]
  },
  {
   "cell_type": "code",
   "execution_count": 34,
   "metadata": {},
   "outputs": [],
   "source": [
    "# how to see predictions with their probabilities\n",
    "y_pred_prob = logreg.predict_proba(X_test)"
   ]
  },
  {
   "cell_type": "code",
   "execution_count": 35,
   "metadata": {},
   "outputs": [
    {
     "data": {
      "text/plain": [
       "array([0, 1])"
      ]
     },
     "execution_count": 35,
     "metadata": {},
     "output_type": "execute_result"
    }
   ],
   "source": [
    "logreg.classes_  # shows the values for the classes  'Negative (not ok)', 'Positive (ok)'"
   ]
  },
  {
   "cell_type": "code",
   "execution_count": 36,
   "metadata": {},
   "outputs": [
    {
     "name": "stdout",
     "output_type": "stream",
     "text": [
      "[[0.63247571 0.36752429]\n",
      " [0.71643656 0.28356344]\n",
      " [0.71104114 0.28895886]\n",
      " [0.5858938  0.4141062 ]\n",
      " [0.84103973 0.15896027]\n",
      " [0.82934844 0.17065156]\n",
      " [0.50110974 0.49889026]\n",
      " [0.48658459 0.51341541]\n",
      " [0.72321388 0.27678612]\n",
      " [0.32810562 0.67189438]\n",
      " [0.64244443 0.35755557]\n",
      " [0.25912035 0.74087965]\n",
      " [0.63949765 0.36050235]\n",
      " [0.76987637 0.23012363]\n",
      " [0.57345769 0.42654231]\n",
      " [0.80896485 0.19103515]\n",
      " [0.54236399 0.45763601]\n",
      " [0.8809859  0.1190141 ]\n",
      " [0.56071047 0.43928953]\n",
      " [0.63038849 0.36961151]\n",
      " [0.55812011 0.44187989]\n",
      " [0.62388338 0.37611662]\n",
      " [0.80183978 0.19816022]\n",
      " [0.58322696 0.41677304]\n",
      " [0.84451719 0.15548281]\n",
      " [0.7468329  0.2531671 ]\n",
      " [0.90256923 0.09743077]\n",
      " [0.30366288 0.69633712]\n",
      " [0.84641691 0.15358309]\n",
      " [0.7802164  0.2197836 ]\n",
      " [0.56905168 0.43094832]\n",
      " [0.65783942 0.34216058]\n",
      " [0.77603886 0.22396114]\n",
      " [0.61926457 0.38073543]\n",
      " [0.86657866 0.13342134]\n",
      " [0.61209784 0.38790216]\n",
      " [0.52950297 0.47049703]\n",
      " [0.83795257 0.16204743]\n",
      " [0.70451824 0.29548176]\n",
      " [0.69081839 0.30918161]\n",
      " [0.72700295 0.27299705]\n",
      " [0.61183417 0.38816583]\n",
      " [0.72646557 0.27353443]\n",
      " [0.71118959 0.28881041]\n",
      " [0.36528086 0.63471914]\n",
      " [0.97634749 0.02365251]\n",
      " [0.84179352 0.15820648]\n",
      " [0.76981625 0.23018375]\n",
      " [0.6515407  0.3484593 ]\n",
      " [0.72419959 0.27580041]\n",
      " [0.66735896 0.33264104]\n",
      " [0.75119404 0.24880596]\n",
      " [0.25510488 0.74489512]\n",
      " [0.60998536 0.39001464]\n",
      " [0.58374455 0.41625545]\n",
      " [0.86424313 0.13575687]\n",
      " [0.81104624 0.18895376]\n",
      " [0.35222318 0.64777682]\n",
      " [0.81077869 0.18922131]\n",
      " [0.94314096 0.05685904]\n",
      " [0.36008453 0.63991547]\n",
      " [0.53363618 0.46636382]\n",
      " [0.8749028  0.1250972 ]\n",
      " [0.73042398 0.26957602]\n",
      " [0.75080896 0.24919104]\n",
      " [0.69429604 0.30570396]\n",
      " [0.53623776 0.46376224]\n",
      " [0.79036905 0.20963095]\n",
      " [0.57152171 0.42847829]\n",
      " [0.59237736 0.40762264]\n",
      " [0.79830904 0.20169096]\n",
      " [0.72972934 0.27027066]\n",
      " [0.73744144 0.26255856]\n",
      " [0.42761737 0.57238263]\n",
      " [0.54532959 0.45467041]\n",
      " [0.72283848 0.27716152]\n",
      " [0.41998719 0.58001281]\n",
      " [0.58400512 0.41599488]\n",
      " [0.72723899 0.27276101]\n",
      " [0.65900777 0.34099223]\n",
      " [0.45373422 0.54626578]\n",
      " [0.62069277 0.37930723]\n",
      " [0.7007795  0.2992205 ]\n",
      " [0.89940831 0.10059169]\n",
      " [0.67127398 0.32872602]\n",
      " [0.54898637 0.45101363]\n",
      " [0.83963021 0.16036979]\n",
      " [0.5103025  0.4896975 ]\n",
      " [0.36769492 0.63230508]\n",
      " [0.59261596 0.40738404]\n",
      " [0.80205603 0.19794397]\n",
      " [0.80301979 0.19698021]\n",
      " [0.75536792 0.24463208]\n",
      " [0.88852815 0.11147185]\n",
      " [0.5841403  0.4158597 ]\n",
      " [0.78438144 0.21561856]\n",
      " [0.45875471 0.54124529]\n",
      " [0.51196398 0.48803602]\n",
      " [0.35347233 0.64652767]\n",
      " [0.66059342 0.33940658]\n",
      " [0.45736573 0.54263427]\n",
      " [0.83786176 0.16213824]\n",
      " [0.6221259  0.3778741 ]\n",
      " [0.88688713 0.11311287]\n",
      " [0.65218013 0.34781987]\n",
      " [0.65957216 0.34042784]\n",
      " [0.8209015  0.1790985 ]\n",
      " [0.78675188 0.21324812]\n",
      " [0.85289054 0.14710946]\n",
      " [0.76985898 0.23014102]\n",
      " [0.81595408 0.18404592]\n",
      " [0.47775351 0.52224649]\n",
      " [0.52900634 0.47099366]\n",
      " [0.71115752 0.28884248]\n",
      " [0.50674921 0.49325079]\n",
      " [0.58255527 0.41744473]\n",
      " [0.77084992 0.22915008]\n",
      " [0.72977089 0.27022911]\n",
      " [0.80756076 0.19243924]\n",
      " [0.2501287  0.7498713 ]\n",
      " [0.53499907 0.46500093]\n",
      " [0.3354546  0.6645454 ]\n",
      " [0.57901401 0.42098599]\n",
      " [0.46435966 0.53564034]\n",
      " [0.83965298 0.16034702]\n",
      " [0.8564314  0.1435686 ]\n",
      " [0.61857574 0.38142426]\n",
      " [0.66172686 0.33827314]\n",
      " [0.6369935  0.3630065 ]\n",
      " [0.87157469 0.12842531]\n",
      " [0.71666307 0.28333693]\n",
      " [0.95994442 0.04005558]\n",
      " [0.81518861 0.18481139]\n",
      " [0.33283053 0.66716947]\n",
      " [0.53647126 0.46352874]\n",
      " [0.51284318 0.48715682]\n",
      " [0.80089206 0.19910794]\n",
      " [0.54138349 0.45861651]\n",
      " [0.76783279 0.23216721]\n",
      " [0.81630733 0.18369267]\n",
      " [0.73608006 0.26391994]\n",
      " [0.62507031 0.37492969]\n",
      " [0.87083494 0.12916506]\n",
      " [0.58586087 0.41413913]\n",
      " [0.57539142 0.42460858]\n",
      " [0.86167809 0.13832191]\n",
      " [0.79218306 0.20781694]\n",
      " [0.70522301 0.29477699]\n",
      " [0.84174901 0.15825099]\n",
      " [0.63983766 0.36016234]\n",
      " [0.76258551 0.23741449]\n",
      " [0.56649311 0.43350689]\n",
      " [0.79380119 0.20619881]\n",
      " [0.76837662 0.23162338]\n",
      " [0.38888459 0.61111541]\n",
      " [0.80268991 0.19731009]\n",
      " [0.19928502 0.80071498]\n",
      " [0.82191509 0.17808491]\n",
      " [0.63511265 0.36488735]\n",
      " [0.21381357 0.78618643]\n",
      " [0.55919386 0.44080614]\n",
      " [0.63440346 0.36559654]\n",
      " [0.88239862 0.11760138]\n",
      " [0.77156675 0.22843325]\n",
      " [0.52134931 0.47865069]\n",
      " [0.78679475 0.21320525]\n",
      " [0.48501479 0.51498521]\n",
      " [0.83877506 0.16122494]\n",
      " [0.76259881 0.23740119]\n",
      " [0.70625609 0.29374391]\n",
      " [0.83329952 0.16670048]\n",
      " [0.51283474 0.48716526]\n",
      " [0.70030106 0.29969894]\n",
      " [0.55348957 0.44651043]\n",
      " [0.49830098 0.50169902]\n",
      " [0.70753494 0.29246506]\n",
      " [0.38263772 0.61736228]\n",
      " [0.58406005 0.41593995]\n",
      " [0.74179055 0.25820945]\n",
      " [0.8258032  0.1741968 ]\n",
      " [0.66480459 0.33519541]\n",
      " [0.30393175 0.69606825]\n",
      " [0.67545632 0.32454368]\n",
      " [0.64269574 0.35730426]\n",
      " [0.7663053  0.2336947 ]\n",
      " [0.76261476 0.23738524]\n",
      " [0.61590682 0.38409318]\n",
      " [0.75308588 0.24691412]\n",
      " [0.72045448 0.27954552]\n",
      " [0.81498826 0.18501174]\n",
      " [0.7377638  0.2622362 ]\n",
      " [0.72143074 0.27856926]]\n"
     ]
    }
   ],
   "source": [
    "print(y_pred_prob)  # cols here shows the probability that the sample falls in the corresponding col \n",
    "# in the classes list"
   ]
  },
  {
   "cell_type": "code",
   "execution_count": 27,
   "metadata": {},
   "outputs": [
    {
     "name": "stdout",
     "output_type": "stream",
     "text": [
      "Accuracy 0.6927\n",
      "Precisin 0.5556\n",
      "Recall 0.2419\n",
      "F1 Score 0.3371\n"
     ]
    }
   ],
   "source": [
    "def get_metrics(confusion):\n",
    "    # tn, fp, fn, tp = confusion.ravel()\n",
    "    tn = confusion[0][0]\n",
    "    fp = confusion[0][1]\n",
    "    fn = confusion[1][0]\n",
    "    tp = confusion[1][1]\n",
    "    sum_all = tn + fp + fn + tp\n",
    "    accuracy = round((tp + tn) / sum_all, 4)\n",
    "    precision = round(tp/(tp + fp), 4)\n",
    "    recall = round(tp / (tp + fn), 4)\n",
    "    f1_score = round((2 * precision * recall)/(precision + recall), 4)\n",
    "    return accuracy, precision, recall, f1_score\n",
    "\n",
    "accuracy, precision, recall, f1_score = get_metrics(confusion)\n",
    "print('Accuracy', accuracy)\n",
    "print('Precisin', precision)\n",
    "print('Recall', recall)\n",
    "print('F1 Score', f1_score)"
   ]
  },
  {
   "cell_type": "code",
   "execution_count": 86,
   "metadata": {},
   "outputs": [
    {
     "name": "stdout",
     "output_type": "stream",
     "text": [
      "[0, 0, 0, 0, 0, 0, 0, 1, 0, 1, 0, 1, 0, 0, 0, 0, 0, 0, 0, 0, 0, 0, 0, 0, 0, 0, 0, 1, 0, 0, 0, 0, 0, 0, 0, 0, 0, 0, 0, 0, 0, 0, 0, 0, 1, 0, 0, 0, 0, 0, 0, 0, 1, 0, 0, 0, 0, 1, 0, 0, 1, 0, 0, 0, 0, 0, 0, 0, 0, 0, 0, 0, 0, 1, 0, 0, 1, 0, 0, 0, 1, 0, 0, 0, 0, 0, 0, 0, 1, 0, 0, 0, 0, 0, 0, 0, 1, 0, 1, 0, 1, 0, 0, 0, 0, 0, 0, 0, 0, 0, 0, 1, 0, 0, 0, 0, 0, 0, 0, 1, 0, 1, 0, 1, 0, 0, 0, 0, 0, 0, 0, 0, 0, 1, 0, 0, 0, 0, 0, 0, 0, 0, 0, 0, 0, 0, 0, 0, 0, 0, 0, 0, 0, 0, 1, 0, 1, 0, 0, 1, 0, 0, 0, 0, 0, 0, 1, 0, 0, 0, 0, 0, 0, 0, 1, 0, 1, 0, 0, 0, 0, 1, 0, 0, 0, 0, 0, 0, 0, 0, 0, 0]\n"
     ]
    }
   ],
   "source": [
    "def classify_on_threshold(y_pred_prob, threshold):\n",
    "    y_pred = list()\n",
    "    for i in range(len(y_pred_prob)):\n",
    "        if y_pred_prob[i][1] < threshold:\n",
    "            y_pred.append(0)\n",
    "        else:\n",
    "            y_pred.append(1)\n",
    "    return y_pred\n",
    "\n",
    "y_pred_prob = logreg.predict_proba(X_test)\n",
    "threshold = 0.5\n",
    "y_pred = classify_on_threshold(y_pred_prob, threshold)\n",
    "print(y_pred)"
   ]
  },
  {
   "cell_type": "code",
   "execution_count": 93,
   "metadata": {},
   "outputs": [],
   "source": [
    "# threshold = y_train.value_counts()[1] / len(y_train)\n",
    "threshold = .335195"
   ]
  },
  {
   "cell_type": "code",
   "execution_count": 94,
   "metadata": {},
   "outputs": [
    {
     "data": {
      "text/plain": [
       "(array([[0., 0., 0., 0., 0., 0., 0., 0., 0., 1.],\n",
       "        [1., 0., 0., 0., 0., 0., 0., 0., 0., 0.]]),\n",
       " array([0.36752429, 0.39401943, 0.42051457, 0.44700972, 0.47350486,\n",
       "        0.5       , 0.52649514, 0.55299028, 0.57948543, 0.60598057,\n",
       "        0.63247571]),\n",
       " <a list of 2 Lists of Patches objects>)"
      ]
     },
     "execution_count": 94,
     "metadata": {},
     "output_type": "execute_result"
    },
    {
     "data": {
      "image/png": "[encoded data removed]",
      "text/plain": [
       "<Figure size 432x288 with 1 Axes>"
      ]
     },
     "metadata": {
      "needs_background": "light"
     },
     "output_type": "display_data"
    }
   ],
   "source": [
    "plt.hist(y_pred_prob[:1])"
   ]
  },
  {
   "cell_type": "code",
   "execution_count": 95,
   "metadata": {},
   "outputs": [
    {
     "name": "stdout",
     "output_type": "stream",
     "text": [
      "[1, 0, 0, 1, 0, 0, 1, 1, 0, 1, 1, 1, 1, 0, 1, 0, 1, 0, 1, 1, 1, 1, 0, 1, 0, 0, 0, 1, 0, 0, 1, 1, 0, 1, 0, 1, 1, 0, 0, 0, 0, 1, 0, 0, 1, 0, 0, 0, 1, 0, 0, 0, 1, 1, 1, 0, 0, 1, 0, 0, 1, 1, 0, 0, 0, 0, 1, 0, 1, 1, 0, 0, 0, 1, 1, 0, 1, 1, 0, 1, 1, 1, 0, 0, 0, 1, 0, 1, 1, 1, 0, 0, 0, 0, 1, 0, 1, 1, 1, 1, 1, 0, 1, 0, 1, 1, 0, 0, 0, 0, 0, 1, 1, 0, 1, 1, 0, 0, 0, 1, 1, 1, 1, 1, 0, 0, 1, 1, 1, 0, 0, 0, 0, 1, 1, 1, 0, 1, 0, 0, 0, 1, 0, 1, 1, 0, 0, 0, 0, 1, 0, 1, 0, 0, 1, 0, 1, 0, 1, 1, 1, 1, 0, 0, 1, 0, 1, 0, 0, 0, 0, 1, 0, 1, 1, 0, 1, 1, 0, 0, 1, 1, 0, 1, 0, 0, 1, 0, 0, 0, 0, 0]\n"
     ]
    }
   ],
   "source": [
    "y_pred = classify_on_threshold(y_pred_prob, threshold)\n",
    "print(y_pred)"
   ]
  },
  {
   "cell_type": "code",
   "execution_count": 96,
   "metadata": {},
   "outputs": [
    {
     "name": "stdout",
     "output_type": "stream",
     "text": [
      "[[84 46]\n",
      " [17 45]]\n"
     ]
    }
   ],
   "source": [
    "cm = confusion_matrix(y_test, y_pred)\n",
    "print(cm)"
   ]
  },
  {
   "cell_type": "code",
   "execution_count": 97,
   "metadata": {},
   "outputs": [
    {
     "name": "stdout",
     "output_type": "stream",
     "text": [
      "Accuracy 0.6719\n",
      "Precision 0.4945\n",
      "Recall 0.7258\n",
      "F1 Score 0.5882\n"
     ]
    }
   ],
   "source": [
    "accuracy, precision, recall, f1_score = get_metrics(cm)\n",
    "print('Accuracy', accuracy)\n",
    "print('Precision', precision)\n",
    "print('Recall', recall)\n",
    "print('F1 Score', f1_score)"
   ]
  },
  {
   "cell_type": "code",
   "execution_count": 85,
   "metadata": {},
   "outputs": [],
   "source": [
    "from sklearn.preprocessing import binarize\n",
    "def rerun_model(model, y_train, ):\n",
    "    '''\n",
    "    1. get new prob\n",
    "    2. get threshold\n",
    "    3. get new pred\n",
    "    4. compute new cm using y pred and test\n",
    "    5. get the new metrics\n",
    "    '''\n",
    "    pass"
   ]
  },
  {
   "cell_type": "code",
   "execution_count": 72,
   "metadata": {},
   "outputs": [],
   "source": [
    "import seaborn as sns"
   ]
  },
  {
   "cell_type": "code",
   "execution_count": 102,
   "metadata": {},
   "outputs": [
    {
     "name": "stdout",
     "output_type": "stream",
     "text": [
      "500\n",
      "268\n",
      "[0.64935065 0.65584416 0.64935065 0.70588235 0.65359477]\n",
      "0.6628045157456922\n",
      "[0.578125   0.55462185 0.54237288 0.64       0.576     ]\n",
      "0.5782239460190857\n"
     ]
    }
   ],
   "source": [
    "from sklearn.model_selection import cross_val_score \n",
    "import pandas as pd\n",
    "from sklearn.linear_model import LogisticRegression\n",
    "\n",
    "pima = pd.read_csv('Datasets/diabetes2.csv')\n",
    "\n",
    "feature_cols = ['Pregnancies', 'Insulin', 'BMI', 'Age']\n",
    "\n",
    "# X is a matrix,access the features we want in feature_cols\n",
    "X = pima[feature_cols]\n",
    "\n",
    "# y is a vector, hence we use dot to access 'label'\n",
    "y = pima['Outcome']\n",
    "\n",
    "print(y.value_counts()[0])\n",
    "print(y.value_counts()[1])\n",
    "\n",
    "logreg = LogisticRegression(class_weight={1: 500/268}, solver='lbfgs')\n",
    "#logreg = LogisticRegression(class_weight={1: y.value_counts()[0]/y.value_counts()[1]})\n",
    "# logreg = LogisticRegression()\n",
    "\n",
    "all_accuracies = cross_val_score(estimator=logreg, X=X, y=y, cv=5, scoring='accuracy')\n",
    "print(all_accuracies)\n",
    "print(all_accuracies.mean())\n",
    "\n",
    "all_f1 = cross_val_score(estimator=logreg, X=X, y=y, cv=5, scoring='f1')\n",
    "print(all_f1)\n",
    "print(all_f1.mean())"
   ]
  },
  {
   "cell_type": "code",
   "execution_count": 104,
   "metadata": {},
   "outputs": [
    {
     "ename": "ImportError",
     "evalue": "cannot import name 'grid_search' from 'sklearn' (/Users/zainraza/Downloads/dev/courses/DS/DS-2.1-Machine-Learning/env/lib/python3.7/site-packages/sklearn/__init__.py)",
     "output_type": "error",
     "traceback": [
      "\u001b[0;31m---------------------------------------------------------------------------\u001b[0m",
      "\u001b[0;31mImportError\u001b[0m                               Traceback (most recent call last)",
      "\u001b[0;32m<ipython-input-104-adbe71bd623c>\u001b[0m in \u001b[0;36m<module>\u001b[0;34m\u001b[0m\n\u001b[1;32m      1\u001b[0m \u001b[0;31m## Grid Search for Parameter Selection\u001b[0m\u001b[0;34m\u001b[0m\u001b[0;34m\u001b[0m\u001b[0;34m\u001b[0m\u001b[0m\n\u001b[1;32m      2\u001b[0m \u001b[0;34m\u001b[0m\u001b[0m\n\u001b[0;32m----> 3\u001b[0;31m \u001b[0;32mfrom\u001b[0m \u001b[0msklearn\u001b[0m \u001b[0;32mimport\u001b[0m \u001b[0msvm\u001b[0m\u001b[0;34m,\u001b[0m \u001b[0mgrid_search\u001b[0m\u001b[0;34m\u001b[0m\u001b[0;34m\u001b[0m\u001b[0m\n\u001b[0m\u001b[1;32m      4\u001b[0m \u001b[0;34m\u001b[0m\u001b[0m\n\u001b[1;32m      5\u001b[0m \u001b[0;32mdef\u001b[0m \u001b[0msvc_param_selection\u001b[0m\u001b[0;34m(\u001b[0m\u001b[0mX\u001b[0m\u001b[0;34m,\u001b[0m \u001b[0my\u001b[0m\u001b[0;34m,\u001b[0m \u001b[0mnfolds\u001b[0m\u001b[0;34m)\u001b[0m\u001b[0;34m:\u001b[0m\u001b[0;34m\u001b[0m\u001b[0;34m\u001b[0m\u001b[0m\n",
      "\u001b[0;31mImportError\u001b[0m: cannot import name 'grid_search' from 'sklearn' (/Users/zainraza/Downloads/dev/courses/DS/DS-2.1-Machine-Learning/env/lib/python3.7/site-packages/sklearn/__init__.py)"
     ]
    }
   ],
   "source": [
    "## Grid Search for Parameter Selection\n",
    "\n",
    "from sklearn import svm, GridSearchCV\n",
    "\n",
    "def svc_param_selection(X, y, nfolds):\n",
    "    Cs = [0.001, 0.01, 0.1, 1, 10]\n",
    "    gammas = [0.001, 0.01, 0.1, 1]\n",
    "    param_grid = {'C': Cs, 'gamma' : gammas}\n",
    "    grid_search = GridSearchCV(svm.SVC(kernel='rbf'), param_grid, cv=nfolds)\n",
    "    grid_search.fit(X, y)\n",
    "    return grid_search.best_params_"
   ]
  },
  {
   "cell_type": "code",
   "execution_count": null,
   "metadata": {},
   "outputs": [],
   "source": []
  }
 ],
 "metadata": {
  "kernelspec": {
   "display_name": "Python 3",
   "language": "python",
   "name": "python3"
  },
  "language_info": {
   "codemirror_mode": {
    "name": "ipython",
    "version": 3
   },
   "file_extension": ".py",
   "mimetype": "text/x-python",
   "name": "python",
   "nbconvert_exporter": "python",
   "pygments_lexer": "ipython3",
   "version": "3.7.6"
  }
 },
 "nbformat": 4,
 "nbformat_minor": 4
}
