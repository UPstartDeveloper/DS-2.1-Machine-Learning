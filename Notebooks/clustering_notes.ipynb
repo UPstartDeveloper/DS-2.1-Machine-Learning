{
 "cells": [
  {
   "cell_type": "code",
   "execution_count": 1,
   "metadata": {},
   "outputs": [],
   "source": [
    "from sklearn.feature_extraction.text import CountVectorizer, TfidfVectorizer\n",
    "from sklearn.cluster import KMeans\n",
    "from sklearn.metrics import adjusted_rand_score\n",
    "\n",
    "sentences = ['This is the first sentence.',\n",
    "             'This one is the second sentence.',\n",
    "             'And this is the third one.',\n",
    "             'Is this the first sentence?']"
   ]
  },
  {
   "cell_type": "code",
   "execution_count": 3,
   "metadata": {},
   "outputs": [
    {
     "name": "stdout",
     "output_type": "stream",
     "text": [
      "[[0 1 1 0 0 1 1 0 1]\n",
      " [0 0 1 1 1 1 1 0 1]\n",
      " [1 0 1 1 0 0 1 1 1]\n",
      " [0 1 1 0 0 1 1 0 1]]\n"
     ]
    }
   ],
   "source": [
    "vectorizer = CountVectorizer()\n",
    "# create a term-document matrix: assign each word a tuple: \n",
    "# first number is the sentence, and the second is the unique number that corresponds to the word\n",
    "# for example, if the word \"one\" is assigned the number 3,\n",
    "# then the word \"one\" that is used in the third sentence is represented by the tuple (2,3)\n",
    "X = vectorizer.fit_transform(sentences)\n",
    "\n",
    "# from the term-document matrix, create the BoW matrix\n",
    "print(X.toarray())"
   ]
  },
  {
   "cell_type": "code",
   "execution_count": 4,
   "metadata": {},
   "outputs": [
    {
     "name": "stdout",
     "output_type": "stream",
     "text": [
      "['and', 'first', 'is', 'one', 'second', 'sentence', 'the', 'third', 'this']\n"
     ]
    }
   ],
   "source": [
    "# how do we get unique words\n",
    "# Get the unique words\n",
    "print(vectorizer.get_feature_names())"
   ]
  },
  {
   "cell_type": "code",
   "execution_count": 16,
   "metadata": {},
   "outputs": [
    {
     "name": "stdout",
     "output_type": "stream",
     "text": [
      "[[0 1 0 1 0 1 1 1 0 0 0]\n",
      " [0 0 1 1 1 0 1 0 0 1 0]\n",
      " [1 1 0 0 0 0 0 1 1 1 0]\n",
      " [0 1 0 1 0 1 1 1 0 0 1]]\n",
      "(4, 11)\n",
      "['are', 'best', 'cool', 'data', 'has', 'is', 'science', 'the', 'these', 'topics', 'track']\n"
     ]
    }
   ],
   "source": [
    "# new example, new corpus\n",
    "sentences2 = [\n",
    "    \"Data Science is the best.\",\n",
    "    \"Data Science has cool topics.\",\n",
    "    \"Are these the best topics?\",\n",
    "    \"Is Data Science the best track?\"\n",
    "]\n",
    "\n",
    "# make the model\n",
    "vectorizer2 = CountVectorizer()\n",
    "\n",
    "X2 = vectorizer2.fit_transform(sentences2)\n",
    "\n",
    "# print the Bow matrix\n",
    "print(X2.toarray())\n",
    "\n",
    "\n",
    "# verify 4 x 11 shape\n",
    "print(X2.toarray().shape)\n",
    "\n",
    "# get the unique words\n",
    "print(vectorizer2.get_feature_names())"
   ]
  },
  {
   "cell_type": "code",
   "execution_count": 18,
   "metadata": {},
   "outputs": [
    {
     "ename": "ModuleNotFoundError",
     "evalue": "No module named 'figures'",
     "output_type": "error",
     "traceback": [
      "\u001b[0;31m---------------------------------------------------------------------------\u001b[0m",
      "\u001b[0;31mModuleNotFoundError\u001b[0m                       Traceback (most recent call last)",
      "\u001b[0;32m<ipython-input-18-165cb4419f12>\u001b[0m in \u001b[0;36m<module>\u001b[0;34m\u001b[0m\n\u001b[0;32m----> 1\u001b[0;31m \u001b[0;32mfrom\u001b[0m \u001b[0mfigures\u001b[0m \u001b[0;32mimport\u001b[0m \u001b[0mplot_kmeans_interactive\u001b[0m\u001b[0;34m\u001b[0m\u001b[0;34m\u001b[0m\u001b[0m\n\u001b[0m\u001b[1;32m      2\u001b[0m \u001b[0;34m\u001b[0m\u001b[0m\n\u001b[1;32m      3\u001b[0m \u001b[0mplot_kmeans_interactive\u001b[0m\u001b[0;34m(\u001b[0m\u001b[0;34m)\u001b[0m\u001b[0;34m\u001b[0m\u001b[0;34m\u001b[0m\u001b[0m\n",
      "\u001b[0;31mModuleNotFoundError\u001b[0m: No module named 'figures'"
     ]
    }
   ],
   "source": [
    "\n",
    "from figures import plot_kmeans_interactive\n",
    "\n",
    "plot_kmeans_interactive()"
   ]
  },
  {
   "cell_type": "code",
   "execution_count": 19,
   "metadata": {},
   "outputs": [
    {
     "data": {
      "text/plain": [
       "<matplotlib.collections.PathCollection at 0x1327b2ed0>"
      ]
     },
     "execution_count": 19,
     "metadata": {},
     "output_type": "execute_result"
    },
    {
     "data": {
      "image/png": "[encoded data removed]",
      "text/plain": [
       "<Figure size 432x288 with 1 Axes>"
      ]
     },
     "metadata": {
      "needs_background": "light"
     },
     "output_type": "display_data"
    }
   ],
   "source": [
    "# generating a dataset of random samples\n",
    "from sklearn.datasets.samples_generator import make_blobs\n",
    "import matplotlib.pyplot as plt\n",
    "\n",
    "# create a sample dataset with 300 data points and 4 cluster centers\n",
    "X, y = make_blobs(n_samples=300, centers=4,\n",
    "                          random_state=0, cluster_std=0.60)\n",
    "\n",
    "# plot the data\n",
    "plt.scatter(X[:, 0], X[:, 1])"
   ]
  },
  {
   "cell_type": "code",
   "execution_count": 20,
   "metadata": {},
   "outputs": [
    {
     "name": "stdout",
     "output_type": "stream",
     "text": [
      "[[ 0.94973532  4.41906906]\n",
      " [-1.37324398  7.75368871]\n",
      " [-1.58438467  2.83081263]\n",
      " [ 1.98258281  0.86771314]]\n"
     ]
    }
   ],
   "source": [
    "from sklearn.cluster import KMeans\n",
    "\n",
    "# k-means algorithm where k = 4\n",
    "km = KMeans(n_clusters=4)  # this tells the points to arrange in 4 clusters\n",
    "# perform k-means clustering on the previous dataset\n",
    "km.fit(X)\n",
    "# print the 4 cluster centers\n",
    "print(km.cluster_centers_)  # now the random points should be in the centers of their own clusters"
   ]
  },
  {
   "cell_type": "code",
   "execution_count": 30,
   "metadata": {},
   "outputs": [],
   "source": [
    "# square the difference of x coordinates, do same for y, add together and take sqrt, abs value is answer\n",
    "import numpy as np\n",
    "def distance_between_points(a):\n",
    "    # x_diff = b[0] - a[0]\n",
    "   #  y_diff = b[1] - a[1]\n",
    "    \n",
    "    return np.linalg.norm(a)\n",
    "\n",
    "\n",
    "# distance_between_points(np.array([[1, 1]-[2, 2]]))\n",
    "u = np.array([1, 1])\n",
    "v = np.array([2, 2])\n",
    "w = np.array([3, 8])\n",
    "ab = np.linalg.norm(u-v)\n",
    "ac = np.linalg.norm(u-w)"
   ]
  },
  {
   "cell_type": "code",
   "execution_count": 31,
   "metadata": {},
   "outputs": [
    {
     "data": {
      "text/plain": [
       "1.4142135623730951"
      ]
     },
     "execution_count": 31,
     "metadata": {},
     "output_type": "execute_result"
    }
   ],
   "source": [
    "ab"
   ]
  },
  {
   "cell_type": "code",
   "execution_count": 32,
   "metadata": {},
   "outputs": [
    {
     "data": {
      "text/plain": [
       "7.280109889280518"
      ]
     },
     "execution_count": 32,
     "metadata": {},
     "output_type": "execute_result"
    }
   ],
   "source": [
    "ac"
   ]
  },
  {
   "cell_type": "code",
   "execution_count": 33,
   "metadata": {},
   "outputs": [
    {
     "data": {
      "image/png": "[encoded data removed]",
      "text/plain": [
       "<Figure size 432x288 with 1 Axes>"
      ]
     },
     "metadata": {
      "needs_background": "light"
     },
     "output_type": "display_data"
    }
   ],
   "source": [
    "# how to plot distortion, so we can get to the optimal value for K\n",
    "from scipy.spatial import distance\n",
    "\n",
    "distortions = []\n",
    "K = range(1, 10)\n",
    "for k in K:\n",
    "    # fit the k-means for a given k to the data (X)\n",
    "    km = KMeans(n_clusters=k)\n",
    "    km.fit(X)\n",
    "    # distance.cdist finds the squared distances\n",
    "    # axis=1 allows us to keep the min for each sample, not jsut the min across the entire dataset\n",
    "    # find the closest distance for each sample to a center, and take the average\n",
    "    distortions.append(sum(np.min(distance.cdist(X, km.cluster_centers_, 'euclidean'), axis=1)) / X.shape[0])\n",
    "\n",
    "# Plot the elbow: bx- = use a solid (-) blue (b) line, \n",
    "# and mark the x-axis points with an x (x)\n",
    "plt.plot(K, distortions, 'bx-')\n",
    "plt.xlabel('k')\n",
    "plt.ylabel('Distortion')\n",
    "plt.title('The Elbow Method showing the optimal k')\n",
    "plt.show()"
   ]
  },
  {
   "cell_type": "code",
   "execution_count": 34,
   "metadata": {},
   "outputs": [
    {
     "data": {
      "image/png": "[encoded data removed]",
      "text/plain": [
       "<Figure size 432x288 with 1 Axes>"
      ]
     },
     "metadata": {
      "needs_background": "light"
     },
     "output_type": "display_data"
    }
   ],
   "source": [
    "# do the same thing with the intertia property\n",
    "sum_of_squared_distances = []\n",
    "K = range(1,15)\n",
    "for k in K:\n",
    "    km = KMeans(n_clusters=k)\n",
    "    km.fit(X)\n",
    "    # inertia is an attribute of km!\n",
    "    # https://scikit-learn.org/stable/modules/generated/sklearn.cluster.KMeans.html#sklearn.cluster.KMeans\n",
    "    sum_of_squared_distances.append(km.inertia_)\n",
    "    \n",
    "\n",
    "    # Plot the elbow\n",
    "plt.plot(K, sum_of_squared_distances, 'bx-')\n",
    "plt.xlabel('k')\n",
    "plt.ylabel('Inertia')\n",
    "plt.title('The Elbow Method showing the optimal k')\n",
    "plt.show()"
   ]
  },
  {
   "cell_type": "code",
   "execution_count": 39,
   "metadata": {},
   "outputs": [
    {
     "data": {
      "text/plain": [
       "<matplotlib.collections.PathCollection at 0x132e7ae50>"
      ]
     },
     "execution_count": 39,
     "metadata": {},
     "output_type": "execute_result"
    },
    {
     "data": {
      "image/png": "[encoded data removed]",
      "text/plain": [
       "<Figure size 432x288 with 1 Axes>"
      ]
     },
     "metadata": {
      "needs_background": "light"
     },
     "output_type": "display_data"
    }
   ],
   "source": [
    "from sklearn.datasets.samples_generator import make_blobs\n",
    "import matplotlib.pyplot as plt\n",
    "\n",
    "Data, blob_y = make_blobs(n_samples=500, centers=6,\n",
    "                          random_state=0, cluster_std=0.80)\n",
    "\n",
    "# plot the data\n",
    "plt.scatter(Data[:, 0], Data[:, 1])"
   ]
  },
  {
   "cell_type": "code",
   "execution_count": 68,
   "metadata": {},
   "outputs": [
    {
     "data": {
      "text/plain": [
       "array([3, 2, 5, 1, 5, 0, 0, 4, 2, 0, 3, 5, 4, 0, 4, 4, 3, 3, 2, 0, 1, 4,\n",
       "       5, 1, 5, 4, 5, 0, 3, 2, 1, 5, 4, 4, 2, 0, 3, 2, 2, 4, 1, 3, 2, 0,\n",
       "       3, 2, 1, 3, 1, 2, 3, 2, 5, 2, 4, 2, 0, 0, 1, 2, 5, 1, 3, 2, 4, 2,\n",
       "       0, 2, 2, 0, 2, 0, 4, 5, 0, 0, 3, 4, 3, 3, 1, 1, 3, 1, 0, 4, 4, 3,\n",
       "       0, 1, 4, 4, 5, 1, 0, 1, 5, 5, 0, 3, 5, 5, 4, 2, 2, 0, 5, 3, 3, 1,\n",
       "       1, 0, 2, 4, 1, 2, 2, 1, 3, 3, 0, 2, 5, 3, 0, 4, 0, 0, 4, 3, 2, 1,\n",
       "       1, 4, 2, 4, 3, 0, 1, 1, 1, 4, 0, 2, 3, 3, 0, 2, 1, 5, 5, 1, 4, 4,\n",
       "       0, 3, 0, 0, 2, 4, 4, 3, 3, 0, 1, 5, 4, 2, 2, 0, 2, 3, 5, 5, 2, 1,\n",
       "       5, 1, 3, 5, 1, 4, 5, 2, 5, 3, 1, 4, 3, 2, 2, 3, 1, 5, 0, 5, 5, 0,\n",
       "       3, 3, 1, 1, 1, 2, 5, 4, 3, 3, 2, 5, 1, 0, 4, 1, 3, 4, 3, 0, 3, 5,\n",
       "       2, 1, 4, 0, 5, 5, 1, 1, 4, 0, 5, 3, 5, 2, 1, 4, 3, 3, 0, 3, 1, 3,\n",
       "       4, 2, 4, 5, 1, 2, 2, 1, 3, 0, 4, 1, 4, 4, 2, 4, 5, 4, 5, 3, 5, 5,\n",
       "       5, 2, 4, 0, 2, 0, 0, 4, 4, 5, 0, 2, 3, 0, 5, 0, 1, 3, 5, 2, 2, 0,\n",
       "       4, 0, 5, 0, 3, 3, 0, 2, 4, 4, 2, 1, 3, 4, 5, 3, 3, 4, 2, 0, 3, 4,\n",
       "       1, 0, 4, 1, 1, 5, 2, 1, 4, 4, 4, 4, 5, 1, 3, 5, 4, 2, 4, 5, 3, 1,\n",
       "       2, 2, 1, 0, 0, 4, 4, 0, 0, 5, 2, 3, 5, 4, 5, 1, 0, 0, 2, 3, 4, 0,\n",
       "       0, 2, 0, 4, 2, 2, 0, 4, 4, 3, 0, 2, 3, 4, 5, 2, 0, 0, 5, 3, 2, 5,\n",
       "       1, 4, 2, 2, 1, 4, 3, 4, 1, 1, 1, 4, 1, 3, 1, 3, 3, 1, 5, 5, 3, 3,\n",
       "       5, 1, 1, 1, 1, 2, 3, 2, 4, 0, 5, 2, 0, 4, 0, 4, 5, 3, 1, 4, 1, 5,\n",
       "       2, 4, 1, 3, 4, 2, 1, 5, 3, 2, 2, 4, 0, 3, 0, 4, 0, 1, 3, 2, 3, 0,\n",
       "       4, 3, 2, 5, 2, 1, 4, 4, 5, 2, 2, 4, 4, 5, 4, 0, 1, 0, 5, 2, 1, 5,\n",
       "       3, 5, 1, 5, 4, 1, 5, 5, 5, 5, 5, 4, 3, 0, 3, 2, 4, 0, 3, 1, 4, 1,\n",
       "       5, 1, 2, 1, 4, 5, 5, 3, 5, 3, 4, 1, 0, 5, 5, 1], dtype=int32)"
      ]
     },
     "execution_count": 68,
     "metadata": {},
     "output_type": "execute_result"
    }
   ],
   "source": [
    "# km[km.cluster == 3]\n",
    "# cluster_map['data_index'] = Data.index.values\n",
    "# cluster_map['cluster'] = km.labels_\n",
    "km = KMeans(n_clusters=6).fit(Data)\n",
    "# cluster_map = {}\n",
    "# cluster_map['data_index'] = Data\n",
    "# cluster_map['cluster'] = km.labels_\n",
    "km.labels_"
   ]
  },
  {
   "cell_type": "code",
   "execution_count": 46,
   "metadata": {},
   "outputs": [
    {
     "data": {
      "image/png": "[encoded data removed]",
      "text/plain": [
       "<Figure size 432x288 with 1 Axes>"
      ]
     },
     "metadata": {
      "needs_background": "light"
     },
     "output_type": "display_data"
    }
   ],
   "source": [
    "distortions = []\n",
    "K = range(1, 10)\n",
    "for k in K:\n",
    "    # fit the k-means for a given k to the data (X)\n",
    "    km = KMeans(n_clusters=k)\n",
    "    km.fit(Data)\n",
    "    # distance.cdist finds the squared distances\n",
    "    # axis=1 allows us to keep the min for each sample, not jsut the min across the entire dataset\n",
    "    # find the closest distance for each sample to a center, and take the average\n",
    "    distortions.append(sum(np.min(distance.cdist(Data, km.cluster_centers_, 'euclidean'), axis=1)) / Data.shape[0])\n",
    "\n",
    "# Plot the elbow: bx- = use a solid (-) blue (b) line, \n",
    "# and mark the x-axis points with an x (x)\n",
    "plt.plot(K, distortions, 'bx-')\n",
    "plt.xlabel('k')\n",
    "plt.ylabel('Distortions')\n",
    "plt.title('The Elbow Method showing the optimal k')\n",
    "plt.show()"
   ]
  },
  {
   "cell_type": "code",
   "execution_count": 45,
   "metadata": {},
   "outputs": [
    {
     "data": {
      "image/png": "[encoded data removed]",
      "text/plain": [
       "<Figure size 432x288 with 1 Axes>"
      ]
     },
     "metadata": {
      "needs_background": "light"
     },
     "output_type": "display_data"
    }
   ],
   "source": [
    "inertia_values = []\n",
    "K = range(1, 10)\n",
    "for k in K:\n",
    "    # fit the k-means for a given k to the data (X)\n",
    "    km = KMeans(n_clusters=k)\n",
    "    km.fit(Data)\n",
    "    # distance.cdist finds the squared distances\n",
    "    # axis=1 allows us to keep the min for each sample, not jsut the min across the entire dataset\n",
    "    # find the closest distance for each sample to a center, and take the average\n",
    "    inertia_values.append(sum(np.min(distance.cdist(Data, km.cluster_centers_, 'euclidean'), axis=1)) / Data.shape[0])\n",
    "\n",
    "# Plot the elbow: bx- = use a solid (-) blue (b) line, \n",
    "# and mark the x-axis points with an x (x)\n",
    "plt.plot(K, inertia_values, 'bx-')\n",
    "plt.xlabel('k')\n",
    "plt.ylabel('Inertia')\n",
    "plt.title('The Elbow Method showing the optimal k')\n",
    "plt.show()"
   ]
  },
  {
   "cell_type": "code",
   "execution_count": 78,
   "metadata": {},
   "outputs": [
    {
     "name": "stdout",
     "output_type": "stream",
     "text": [
      "['100', 'app', 'belly', 'best', 'came', 'cat', 'chrome', 'climbing', 'eating', 'extension', 'face', 'feedback', 'google', 'impressed', 'incredible', 'key', 'kitten', 'kitty', 'little', 'map', 'merley', 'ninja', 'open', 'photo', 'play', 'promoter', 'restaurant', 'smiley', 'squooshy', 'tab', 'taken', 'translate', 've']\n"
     ]
    },
    {
     "data": {
      "text/plain": [
       "array([1, 1, 0, 0, 1, 1, 0, 0], dtype=int32)"
      ]
     },
     "execution_count": 78,
     "metadata": {},
     "output_type": "execute_result"
    }
   ],
   "source": [
    "vectorizer = CountVectorizer(stop_words='english')\n",
    "\n",
    "\n",
    "from sklearn.feature_extraction.text import CountVectorizer, TfidfVectorizer\n",
    "from sklearn.cluster import KMeans\n",
    "from sklearn.metrics import adjusted_rand_score\n",
    "\n",
    "sentences = [\"This little kitty came to play when I was eating at a restaurant.\",\n",
    "             \"Merley has the best squooshy kitten belly.\",\n",
    "             \"Google Translate app is incredible.\",\n",
    "             \"If you open 100 tab in google you get a smiley face.\",\n",
    "             \"Best cat photo I've ever taken.\",\n",
    "             \"Climbing ninja cat.\",\n",
    "             \"Impressed with google map feedback.\",\n",
    "             \"Key promoter extension for Google Chrome.\"]\n",
    "\n",
    "# make BOW\n",
    "bow = vectorizer.fit_transform(sentences)\n",
    "# Get the unique words\n",
    "print(vectorizer.get_feature_names())\n",
    "\n",
    "km = KMeans(n_clusters=2).fit(bow)\n",
    "\n",
    "km.labels_"
   ]
  },
  {
   "cell_type": "code",
   "execution_count": 73,
   "metadata": {},
   "outputs": [
    {
     "data": {
      "text/plain": [
       "<matplotlib.collections.PathCollection at 0x133297b90>"
      ]
     },
     "execution_count": 73,
     "metadata": {},
     "output_type": "execute_result"
    },
    {
     "data": {
      "image/png": "[encoded data removed]",
      "text/plain": [
       "<Figure size 432x288 with 1 Axes>"
      ]
     },
     "metadata": {
      "needs_background": "light"
     },
     "output_type": "display_data"
    }
   ],
   "source": [
    "plt.scatter(km.labels_, km.labels_)"
   ]
  },
  {
   "cell_type": "code",
   "execution_count": 77,
   "metadata": {},
   "outputs": [
    {
     "data": {
      "text/plain": [
       "array([[0.  , 0.25],\n",
       "       [0.  , 0.25],\n",
       "       [0.25, 0.  ],\n",
       "       [0.5 , 0.  ],\n",
       "       [0.25, 0.  ],\n",
       "       [0.5 , 0.  ],\n",
       "       [0.  , 0.25],\n",
       "       [0.25, 0.  ],\n",
       "       [0.25, 0.  ],\n",
       "       [0.  , 0.25],\n",
       "       [0.  , 0.25],\n",
       "       [0.  , 0.25],\n",
       "       [0.  , 1.  ],\n",
       "       [0.  , 0.25],\n",
       "       [0.  , 0.25],\n",
       "       [0.  , 0.25],\n",
       "       [0.25, 0.  ],\n",
       "       [0.25, 0.  ],\n",
       "       [0.25, 0.  ],\n",
       "       [0.  , 0.25],\n",
       "       [0.25, 0.  ],\n",
       "       [0.25, 0.  ],\n",
       "       [0.  , 0.25],\n",
       "       [0.25, 0.  ],\n",
       "       [0.25, 0.  ],\n",
       "       [0.  , 0.25],\n",
       "       [0.25, 0.  ],\n",
       "       [0.  , 0.25],\n",
       "       [0.25, 0.  ],\n",
       "       [0.  , 0.25],\n",
       "       [0.25, 0.  ],\n",
       "       [0.  , 0.25],\n",
       "       [0.25, 0.  ]])"
      ]
     },
     "execution_count": 77,
     "metadata": {},
     "output_type": "execute_result"
    }
   ],
   "source": [
    "km.cluster_centers_.T"
   ]
  },
  {
   "cell_type": "code",
   "execution_count": 79,
   "metadata": {},
   "outputs": [
    {
     "data": {
      "text/plain": [
       "array([1, 1, 0, 0, 1, 1, 0, 0], dtype=int32)"
      ]
     },
     "execution_count": 79,
     "metadata": {},
     "output_type": "execute_result"
    }
   ],
   "source": [
    "km.predict(bow)"
   ]
  },
  {
   "cell_type": "code",
   "execution_count": 82,
   "metadata": {},
   "outputs": [],
   "source": [
    "sentence = [\"my cat is hungry\"]\n",
    "v1 = vectorizer.transform(sentence)"
   ]
  },
  {
   "cell_type": "code",
   "execution_count": 83,
   "metadata": {},
   "outputs": [
    {
     "data": {
      "text/plain": [
       "<1x33 sparse matrix of type '<class 'numpy.int64'>'\n",
       "\twith 1 stored elements in Compressed Sparse Row format>"
      ]
     },
     "execution_count": 83,
     "metadata": {},
     "output_type": "execute_result"
    }
   ],
   "source": [
    "v1"
   ]
  },
  {
   "cell_type": "code",
   "execution_count": 84,
   "metadata": {},
   "outputs": [
    {
     "data": {
      "text/plain": [
       "array([[0, 0, 0, 0, 0, 1, 0, 0, 0, 0, 0, 0, 0, 0, 0, 0, 0, 0, 0, 0, 0, 0,\n",
       "        0, 0, 0, 0, 0, 0, 0, 0, 0, 0, 0]])"
      ]
     },
     "execution_count": 84,
     "metadata": {},
     "output_type": "execute_result"
    }
   ],
   "source": [
    "v1.toarray()"
   ]
  },
  {
   "cell_type": "code",
   "execution_count": 85,
   "metadata": {},
   "outputs": [
    {
     "data": {
      "text/plain": [
       "array([1], dtype=int32)"
      ]
     },
     "execution_count": 85,
     "metadata": {},
     "output_type": "execute_result"
    }
   ],
   "source": [
    "km.predict(v1)"
   ]
  },
  {
   "cell_type": "code",
   "execution_count": 86,
   "metadata": {},
   "outputs": [
    {
     "name": "stdout",
     "output_type": "stream",
     "text": [
      "['100', 'app', 'belly', 'best', 'came', 'cat', 'chrome', 'climbing', 'eating', 'extension', 'face', 'feedback', 'google', 'impressed', 'incredible', 'key', 'kitten', 'kitty', 'little', 'map', 'merley', 'ninja', 'open', 'photo', 'play', 'promoter', 'restaurant', 'smiley', 'squooshy', 'tab', 'taken', 'translate', 've']\n",
      "(8, 33)\n",
      "Y:\n",
      "[[0 0 0 0 0 0 1 0 0 0 0 0 0 0 0 0 0 0 0 0 0 0 1 0 0 0 0 0 0 0 0 0 0]]\n",
      "[1]\n",
      "[0]\n",
      "[0 0 1 1 0 0 1 1]\n"
     ]
    }
   ],
   "source": [
    "# combining bag of words and kmeans clustering\n",
    "from sklearn.feature_extraction.text import CountVectorizer, TfidfVectorizer\n",
    "from sklearn.cluster import KMeans\n",
    "from sklearn.metrics import adjusted_rand_score\n",
    "\n",
    "sentences = [\"This little kitty came to play when I was eating at a restaurant.\",\n",
    "             \"Merley has the best squooshy kitten belly.\",\n",
    "             \"Google Translate app is incredible.\",\n",
    "             \"If you open 100 tab in google you get a smiley face.\",\n",
    "             \"Best cat photo I've ever taken.\",\n",
    "             \"Climbing ninja cat.\",\n",
    "             \"Impressed with google map feedback.\",\n",
    "             \"Key promoter extension for Google Chrome.\"]\n",
    "\n",
    "# remove stop words from sentences (and, or, is, ...) and instantiate the Bag-of-Word \n",
    "vectorizer = CountVectorizer(stop_words='english')\n",
    "# transform sentences into numerical arrays \n",
    "X = vectorizer.fit_transform(sentences)\n",
    "# print unique words (vocabulary)\n",
    "print(vectorizer.get_feature_names())\n",
    "print(X.shape)\n",
    "# We know there are two group of sentences -> Group 1: cats | Group 2: Google\n",
    "true_k = 2\n",
    "model = KMeans(n_clusters=true_k, init='k-means++')\n",
    "model.fit(X)\n",
    "\n",
    "# Testing our model: For a new sentence, let's see how the model will cluster it. \n",
    "\n",
    "# first we should convert the sentence to a numerical array\n",
    "Y = vectorizer.transform([\"chrome browser to open.\"])\n",
    "print('Y:')\n",
    "print(Y.toarray())\n",
    "prediction = model.predict(Y)\n",
    "print(prediction)\n",
    "# Let's do the same for another sentence\n",
    "Y = vectorizer.transform([\"My cat is hungry.\"])\n",
    "prediction = model.predict(Y)\n",
    "print(prediction)\n",
    "# Lets see the model prediction for training docs\n",
    "print(model.predict(X))"
   ]
  },
  {
   "cell_type": "code",
   "execution_count": null,
   "metadata": {},
   "outputs": [],
   "source": []
  }
 ],
 "metadata": {
  "kernelspec": {
   "display_name": "Python 3",
   "language": "python",
   "name": "python3"
  },
  "language_info": {
   "codemirror_mode": {
    "name": "ipython",
    "version": 3
   },
   "file_extension": ".py",
   "mimetype": "text/x-python",
   "name": "python",
   "nbconvert_exporter": "python",
   "pygments_lexer": "ipython3",
   "version": "3.7.6"
  }
 },
 "nbformat": 4,
 "nbformat_minor": 4
}
