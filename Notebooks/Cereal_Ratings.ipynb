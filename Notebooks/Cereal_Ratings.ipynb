{
  "nbformat": 4,
  "nbformat_minor": 0,
  "metadata": {
    "colab": {
      "name": "Cereal_Ratings.ipynb",
      "provenance": [],
      "authorship_tag": "ABX9TyOrtCDiMEGJ4KT56Asfl+ft",
      "include_colab_link": true
    },
    "kernelspec": {
      "name": "python3",
      "display_name": "Python 3"
    },
    "language_info": {
      "name": "python"
    }
  },
  "cells": [
    {
      "cell_type": "markdown",
      "metadata": {
        "id": "view-in-github",
        "colab_type": "text"
      },
      "source": [
        "<a href=\"https://colab.research.google.com/github/UPstartDeveloper/DS-2.1-Machine-Learning/blob/master/Notebooks/Cereal_Ratings.ipynb\" target=\"_parent\"><img src=\"https://colab.research.google.com/assets/colab-badge.svg\" alt=\"Open In Colab\"/></a>"
      ]
    },
    {
      "cell_type": "markdown",
      "metadata": {
        "id": "Xxhq76tlaCMl"
      },
      "source": [
        "Suppose you have the following [dataset](https://docs.google.com/spreadsheets/d/1OyFwsZ77RnGiwSSkTPx6j9V9qyOqitysQij4WW4nhMU/edit#gid=1943041330)*, which is a list of 80 cereals, containing the following fields:\n",
        "\n",
        "`mfr`: Manufacturer of cereal                   \n",
        "- A = American Home Food Products\n",
        "- G = General Mills\n",
        "- K = Kelloggs                \n",
        "- N = Nabisco               \n",
        "- P = Post               \n",
        "- Q = Quaker Oats              \n",
        "- R = Ralston Purina  \n",
        "         \n",
        "`type`:              \n",
        "- cold               \n",
        "- hot \n",
        "\n",
        "`calories`: calories per serving      \n",
        "`protein`: grams of protein per serving          \n",
        "`fat`: grams of fat per serving           \n",
        "`sodium`: milligrams of sodium           \n",
        "`fiber`: grams of dietary fiber           \n",
        "`carbs`: grams of complex carbohydrates           \n",
        "`sugars`: grams of sugars           \n",
        "`potass`: milligrams of potassium           \n",
        "`vitamins`: vitamins and minerals - 0, 25, or 100, indicating the typical percentage of FDA recommended            \n",
        "`shelf`: display shelf (1, 2, or 3, counting from the floor)           \n",
        "`weight`: weight in ounces of one serving           \n",
        "`cups`: number of cups in one serving           \n",
        "`rating`: a rating of the cereals (Possibly from Consumer Reports?)   \n",
        "    \n",
        "Given the above, can you build a model using Python to predict cereal rating? We'll be creating a multivariate linear regression as a solution for premium users."
      ]
    },
    {
      "cell_type": "markdown",
      "metadata": {
        "id": "2QPyvzTCbN-X"
      },
      "source": [
        "# Scikit-Learn Solution"
      ]
    },
    {
      "cell_type": "markdown",
      "metadata": {
        "id": "lMRPQ0WBbDTg"
      },
      "source": [
        "## Step 1: Imports"
      ]
    },
    {
      "cell_type": "code",
      "metadata": {
        "id": "3DMCYO6bZ-Dc"
      },
      "source": [
        "# Machine Learning\n",
        "import sklearn\n",
        "from sklearn.model_selection import train_test_split\n",
        "# Data Analysis\n",
        "import numpy as np\n",
        "import pandas as pd\n",
        "import matplotlib.pyplot as plt\n",
        "%matplotlib inline\n",
        "import seaborn as sns\n",
        "# Data Preprocessing\n",
        "from sklearn.preprocessing import OneHotEncoder, LabelBinarizer"
      ],
      "execution_count": 1,
      "outputs": []
    },
    {
      "cell_type": "markdown",
      "metadata": {
        "id": "WBDlMZaVbLQk"
      },
      "source": [
        "## Step 2: Get the Data"
      ]
    },
    {
      "cell_type": "code",
      "metadata": {
        "colab": {
          "base_uri": "https://localhost:8080/",
          "height": 566
        },
        "id": "M3wHkunMbV6s",
        "outputId": "09b60ab3-d477-4a0c-d3b3-0a6ec9a33d7e"
      },
      "source": [
        "# you can use the address below to access the dataset from my GitHub repo\n",
        "URL = \"https://raw.githubusercontent.com/UPstartDeveloper/DS-1.1-Data-Analysis/master/Notebooks/Datasets/cereal.csv\"\n",
        "df = pd.read_csv(URL)\n",
        "# verify it came through ok\n",
        "df.head(10)"
      ],
      "execution_count": 2,
      "outputs": [
        {
          "output_type": "execute_result",
          "data": {
            "text/html": [
              "<div>\n",
              "<style scoped>\n",
              "    .dataframe tbody tr th:only-of-type {\n",
              "        vertical-align: middle;\n",
              "    }\n",
              "\n",
              "    .dataframe tbody tr th {\n",
              "        vertical-align: top;\n",
              "    }\n",
              "\n",
              "    .dataframe thead th {\n",
              "        text-align: right;\n",
              "    }\n",
              "</style>\n",
              "<table border=\"1\" class=\"dataframe\">\n",
              "  <thead>\n",
              "    <tr style=\"text-align: right;\">\n",
              "      <th></th>\n",
              "      <th>name</th>\n",
              "      <th>mfr</th>\n",
              "      <th>type</th>\n",
              "      <th>calories</th>\n",
              "      <th>protein</th>\n",
              "      <th>fat</th>\n",
              "      <th>sodium</th>\n",
              "      <th>fiber</th>\n",
              "      <th>carbs</th>\n",
              "      <th>sugars</th>\n",
              "      <th>potass</th>\n",
              "      <th>vitamins</th>\n",
              "      <th>shelf</th>\n",
              "      <th>weight</th>\n",
              "      <th>cups</th>\n",
              "      <th>rating</th>\n",
              "    </tr>\n",
              "  </thead>\n",
              "  <tbody>\n",
              "    <tr>\n",
              "      <th>0</th>\n",
              "      <td>100% Bran</td>\n",
              "      <td>N</td>\n",
              "      <td>C</td>\n",
              "      <td>70</td>\n",
              "      <td>4</td>\n",
              "      <td>1</td>\n",
              "      <td>130</td>\n",
              "      <td>10.0</td>\n",
              "      <td>5.0</td>\n",
              "      <td>6</td>\n",
              "      <td>280</td>\n",
              "      <td>25</td>\n",
              "      <td>3</td>\n",
              "      <td>1.00</td>\n",
              "      <td>0.33</td>\n",
              "      <td>68.402973</td>\n",
              "    </tr>\n",
              "    <tr>\n",
              "      <th>1</th>\n",
              "      <td>100% Natural Bran</td>\n",
              "      <td>Q</td>\n",
              "      <td>C</td>\n",
              "      <td>120</td>\n",
              "      <td>3</td>\n",
              "      <td>5</td>\n",
              "      <td>15</td>\n",
              "      <td>2.0</td>\n",
              "      <td>8.0</td>\n",
              "      <td>8</td>\n",
              "      <td>135</td>\n",
              "      <td>0</td>\n",
              "      <td>3</td>\n",
              "      <td>1.00</td>\n",
              "      <td>1.00</td>\n",
              "      <td>33.983679</td>\n",
              "    </tr>\n",
              "    <tr>\n",
              "      <th>2</th>\n",
              "      <td>All-Bran</td>\n",
              "      <td>K</td>\n",
              "      <td>C</td>\n",
              "      <td>70</td>\n",
              "      <td>4</td>\n",
              "      <td>1</td>\n",
              "      <td>260</td>\n",
              "      <td>9.0</td>\n",
              "      <td>7.0</td>\n",
              "      <td>5</td>\n",
              "      <td>320</td>\n",
              "      <td>25</td>\n",
              "      <td>3</td>\n",
              "      <td>1.00</td>\n",
              "      <td>0.33</td>\n",
              "      <td>59.425505</td>\n",
              "    </tr>\n",
              "    <tr>\n",
              "      <th>3</th>\n",
              "      <td>All-Bran with Extra Fiber</td>\n",
              "      <td>K</td>\n",
              "      <td>C</td>\n",
              "      <td>50</td>\n",
              "      <td>4</td>\n",
              "      <td>0</td>\n",
              "      <td>140</td>\n",
              "      <td>14.0</td>\n",
              "      <td>8.0</td>\n",
              "      <td>0</td>\n",
              "      <td>330</td>\n",
              "      <td>25</td>\n",
              "      <td>3</td>\n",
              "      <td>1.00</td>\n",
              "      <td>0.50</td>\n",
              "      <td>93.704912</td>\n",
              "    </tr>\n",
              "    <tr>\n",
              "      <th>4</th>\n",
              "      <td>Almond Delight</td>\n",
              "      <td>R</td>\n",
              "      <td>C</td>\n",
              "      <td>110</td>\n",
              "      <td>2</td>\n",
              "      <td>2</td>\n",
              "      <td>200</td>\n",
              "      <td>1.0</td>\n",
              "      <td>14.0</td>\n",
              "      <td>8</td>\n",
              "      <td>-1</td>\n",
              "      <td>25</td>\n",
              "      <td>3</td>\n",
              "      <td>1.00</td>\n",
              "      <td>0.75</td>\n",
              "      <td>34.384843</td>\n",
              "    </tr>\n",
              "    <tr>\n",
              "      <th>5</th>\n",
              "      <td>Apple Cinnamon Cheerios</td>\n",
              "      <td>G</td>\n",
              "      <td>C</td>\n",
              "      <td>110</td>\n",
              "      <td>2</td>\n",
              "      <td>2</td>\n",
              "      <td>180</td>\n",
              "      <td>1.5</td>\n",
              "      <td>10.5</td>\n",
              "      <td>10</td>\n",
              "      <td>70</td>\n",
              "      <td>25</td>\n",
              "      <td>1</td>\n",
              "      <td>1.00</td>\n",
              "      <td>0.75</td>\n",
              "      <td>29.509541</td>\n",
              "    </tr>\n",
              "    <tr>\n",
              "      <th>6</th>\n",
              "      <td>Apple Jacks</td>\n",
              "      <td>K</td>\n",
              "      <td>C</td>\n",
              "      <td>110</td>\n",
              "      <td>2</td>\n",
              "      <td>0</td>\n",
              "      <td>125</td>\n",
              "      <td>1.0</td>\n",
              "      <td>11.0</td>\n",
              "      <td>14</td>\n",
              "      <td>30</td>\n",
              "      <td>25</td>\n",
              "      <td>2</td>\n",
              "      <td>1.00</td>\n",
              "      <td>1.00</td>\n",
              "      <td>33.174094</td>\n",
              "    </tr>\n",
              "    <tr>\n",
              "      <th>7</th>\n",
              "      <td>Basic 4</td>\n",
              "      <td>G</td>\n",
              "      <td>C</td>\n",
              "      <td>130</td>\n",
              "      <td>3</td>\n",
              "      <td>2</td>\n",
              "      <td>210</td>\n",
              "      <td>2.0</td>\n",
              "      <td>18.0</td>\n",
              "      <td>8</td>\n",
              "      <td>100</td>\n",
              "      <td>25</td>\n",
              "      <td>3</td>\n",
              "      <td>1.33</td>\n",
              "      <td>0.75</td>\n",
              "      <td>37.038562</td>\n",
              "    </tr>\n",
              "    <tr>\n",
              "      <th>8</th>\n",
              "      <td>Bran Chex</td>\n",
              "      <td>R</td>\n",
              "      <td>C</td>\n",
              "      <td>90</td>\n",
              "      <td>2</td>\n",
              "      <td>1</td>\n",
              "      <td>200</td>\n",
              "      <td>4.0</td>\n",
              "      <td>15.0</td>\n",
              "      <td>6</td>\n",
              "      <td>125</td>\n",
              "      <td>25</td>\n",
              "      <td>1</td>\n",
              "      <td>1.00</td>\n",
              "      <td>0.67</td>\n",
              "      <td>49.120253</td>\n",
              "    </tr>\n",
              "    <tr>\n",
              "      <th>9</th>\n",
              "      <td>Bran Flakes</td>\n",
              "      <td>P</td>\n",
              "      <td>C</td>\n",
              "      <td>90</td>\n",
              "      <td>3</td>\n",
              "      <td>0</td>\n",
              "      <td>210</td>\n",
              "      <td>5.0</td>\n",
              "      <td>13.0</td>\n",
              "      <td>5</td>\n",
              "      <td>190</td>\n",
              "      <td>25</td>\n",
              "      <td>3</td>\n",
              "      <td>1.00</td>\n",
              "      <td>0.67</td>\n",
              "      <td>53.313813</td>\n",
              "    </tr>\n",
              "  </tbody>\n",
              "</table>\n",
              "</div>"
            ],
            "text/plain": [
              "                        name mfr type  calories  ...  shelf  weight  cups     rating\n",
              "0                  100% Bran   N    C        70  ...      3    1.00  0.33  68.402973\n",
              "1          100% Natural Bran   Q    C       120  ...      3    1.00  1.00  33.983679\n",
              "2                   All-Bran   K    C        70  ...      3    1.00  0.33  59.425505\n",
              "3  All-Bran with Extra Fiber   K    C        50  ...      3    1.00  0.50  93.704912\n",
              "4             Almond Delight   R    C       110  ...      3    1.00  0.75  34.384843\n",
              "5    Apple Cinnamon Cheerios   G    C       110  ...      1    1.00  0.75  29.509541\n",
              "6                Apple Jacks   K    C       110  ...      2    1.00  1.00  33.174094\n",
              "7                    Basic 4   G    C       130  ...      3    1.33  0.75  37.038562\n",
              "8                  Bran Chex   R    C        90  ...      1    1.00  0.67  49.120253\n",
              "9                Bran Flakes   P    C        90  ...      3    1.00  0.67  53.313813\n",
              "\n",
              "[10 rows x 16 columns]"
            ]
          },
          "metadata": {
            "tags": []
          },
          "execution_count": 2
        }
      ]
    },
    {
      "cell_type": "markdown",
      "metadata": {
        "id": "TOwcpV5_bWmf"
      },
      "source": [
        "## Step 3: Data Analysis\n"
      ]
    },
    {
      "cell_type": "markdown",
      "metadata": {
        "id": "uvTaTRzciPf3"
      },
      "source": [
        "TODO: remove outliers in numerical columns like `potass`, `vitamins`, etc."
      ]
    },
    {
      "cell_type": "code",
      "metadata": {
        "colab": {
          "base_uri": "https://localhost:8080/",
          "height": 639
        },
        "id": "-0LfsaFlbhxU",
        "outputId": "7bd4eeb7-620e-4f6b-a1ec-e1e50272daa1"
      },
      "source": [
        "def make_heatmap(df, map_title):\n",
        "    \"\"\"Plots the diagonal correlation matrix of a dataset using Seaborn.\n",
        "\n",
        "       Credit to the Seaborn Documentation for inspiring this cell:\n",
        "       https://seaborn.pydata.org/examples/many_pairwise_correlations.html\n",
        "       \n",
        "       Args:\n",
        "       df(pandas.DataFrame): encapsulates the dataset being used to make heatmap.\n",
        "       map_title(str): the title for the heatmap\n",
        "    \n",
        "    \"\"\"\n",
        "    sns.set(style=\"white\")\n",
        "    # Compute the correlation matrix\n",
        "    corr = df.corr()\n",
        "    # Generate a mask for the upper triangle\n",
        "    mask = np.triu(np.ones_like(corr, dtype=np.bool))\n",
        "    # Set up the matplotlib figure\n",
        "    f, ax = plt.subplots(figsize=(12, 12))\n",
        "    # Generate a custom diverging colormap\n",
        "    cmap = sns.diverging_palette(220, 10, as_cmap=True)\n",
        "    # Draw the heatmap with the mask and correct aspect ratio\n",
        "    sns.heatmap(corr, mask=mask, cmap=cmap, vmax=.3, center=0,\n",
        "                square=True, linewidths=.5, cbar_kws={\"shrink\": .5}, annot=True)\n",
        "    plt.title(map_title)\n",
        "    plt.show()\n",
        "\n",
        "make_heatmap(df, \"Correlations Between Cereal Rating Predictors\")"
      ],
      "execution_count": 3,
      "outputs": [
        {
          "output_type": "display_data",
          "data": {
            "image/png": "[encoded data removed]",
            "text/plain": [
              "<Figure size 864x864 with 2 Axes>"
            ]
          },
          "metadata": {
            "tags": []
          }
        }
      ]
    },
    {
      "cell_type": "markdown",
      "metadata": {
        "id": "jGynC5mVnVzC"
      },
      "source": [
        "Based on the heatmap above, I argue we ought to leave the following variables out of the model:\n",
        "1. `weight`: because it appears to correlate positively with just about every other variable\n",
        "2. `shelf`: this would be irrelevant to what rating a cereal gets in real life, based on how rarely I'd say you hear people talk about it in actual cereal reviews.\n",
        "3. `cups`: similar reason to the `shelf` column, I'd argue this column is contextually irrelevant to the reason a cereal gets a certain rating and not another."
      ]
    },
    {
      "cell_type": "markdown",
      "metadata": {
        "id": "5CEWLru5iTmY"
      },
      "source": [
        "My intuition tells my the `type` column is only one value - let's verify!"
      ]
    },
    {
      "cell_type": "code",
      "metadata": {
        "colab": {
          "base_uri": "https://localhost:8080/"
        },
        "id": "9U55gni4iTXJ",
        "outputId": "496db2b5-9272-45f4-bd43-ef14d6e70800"
      },
      "source": [
        "cereal_types = df[\"type\"]\n",
        "print(f\"The 'type' column has {cereal_types.nunique()} unique values.\")"
      ],
      "execution_count": 4,
      "outputs": [
        {
          "output_type": "stream",
          "text": [
            "The 'type' column has 2 unique values.\n"
          ],
          "name": "stdout"
        }
      ]
    },
    {
      "cell_type": "markdown",
      "metadata": {
        "id": "CIScdceVizaP"
      },
      "source": [
        "Ok so I was wrong, let's take a look at the distribution of these values:"
      ]
    },
    {
      "cell_type": "code",
      "metadata": {
        "colab": {
          "base_uri": "https://localhost:8080/",
          "height": 264
        },
        "id": "S3rW4psHixcg",
        "outputId": "1df67cac-9f8b-4dbb-b5b7-df00191b4c47"
      },
      "source": [
        "plt.pie(cereal_types.value_counts(), labels=cereal_types.unique())\n",
        "plt.title(\"Relative Proportions of Hot & Cold Cereal\")\n",
        "plt.show()"
      ],
      "execution_count": 5,
      "outputs": [
        {
          "output_type": "display_data",
          "data": {
            "image/png": "[encoded data removed]",
            "text/plain": [
              "<Figure size 432x288 with 1 Axes>"
            ]
          },
          "metadata": {
            "tags": []
          }
        }
      ]
    },
    {
      "cell_type": "markdown",
      "metadata": {
        "id": "9NpjvVINkENm"
      },
      "source": [
        "So now we know the overwhelming majority of cereals in the dataset are cold."
      ]
    },
    {
      "cell_type": "markdown",
      "metadata": {
        "id": "DhFB15oDkRkg"
      },
      "source": [
        "Let's also see the relative proportions of the 4 manufacturers represented in the dataset:\n"
      ]
    },
    {
      "cell_type": "code",
      "metadata": {
        "colab": {
          "base_uri": "https://localhost:8080/",
          "height": 264
        },
        "id": "mXf97diSkdVp",
        "outputId": "bba2b447-7c63-4c9d-ba57-f5a245379295"
      },
      "source": [
        "plt.pie(df[\"mfr\"].value_counts(), labels=df[\"mfr\"].unique())\n",
        "plt.title(\"Relative Proportions of Different Cereal Manufacturers\")\n",
        "plt.show()"
      ],
      "execution_count": 6,
      "outputs": [
        {
          "output_type": "display_data",
          "data": {
            "image/png": "[encoded data removed]",
            "text/plain": [
              "<Figure size 432x288 with 1 Axes>"
            ]
          },
          "metadata": {
            "tags": []
          }
        }
      ]
    },
    {
      "cell_type": "markdown",
      "metadata": {
        "id": "xRUjyNkZlgW9"
      },
      "source": [
        "To be honest, I considered leaving this column out of the model because I personally don't think manufacturers should predict with cereal rating. However, since the cereal manufacturing market usually doesn't get disrupted very often, I'll leave it in as it could be possible that name brand influences how cereals are rated."
      ]
    },
    {
      "cell_type": "markdown",
      "metadata": {
        "id": "lHRDInhpbjkt"
      },
      "source": [
        "## Step 4: Data Preprocessing\n",
        "- encode categorical variables "
      ]
    },
    {
      "cell_type": "code",
      "metadata": {
        "colab": {
          "base_uri": "https://localhost:8080/",
          "height": 377
        },
        "id": "NFJijNXVbvoj",
        "outputId": "059e1377-a46f-4c84-b975-2e73551a6602"
      },
      "source": [
        "# encode the categorical variables\n",
        "mfrs_encoded = pd.get_dummies(df[\"mfr\"], prefix=\"mfr\")\n",
        "# replace the manufacturer columns w/ one-hot-encoded columns\n",
        "for col in mfrs_encoded.columns:\n",
        "  df[col] = mfrs_encoded[col]\n",
        "# encode the \"type\" columns as well - binary values\n",
        "encoder = OneHotEncoder(sparse=False)\n",
        "types = np.array(df[\"type\"]).reshape(-1, 1)\n",
        "df[\"type\"] = encoder.fit_transform(types)\n",
        "df.head()"
      ],
      "execution_count": 7,
      "outputs": [
        {
          "output_type": "execute_result",
          "data": {
            "text/html": [
              "<div>\n",
              "<style scoped>\n",
              "    .dataframe tbody tr th:only-of-type {\n",
              "        vertical-align: middle;\n",
              "    }\n",
              "\n",
              "    .dataframe tbody tr th {\n",
              "        vertical-align: top;\n",
              "    }\n",
              "\n",
              "    .dataframe thead th {\n",
              "        text-align: right;\n",
              "    }\n",
              "</style>\n",
              "<table border=\"1\" class=\"dataframe\">\n",
              "  <thead>\n",
              "    <tr style=\"text-align: right;\">\n",
              "      <th></th>\n",
              "      <th>name</th>\n",
              "      <th>mfr</th>\n",
              "      <th>type</th>\n",
              "      <th>calories</th>\n",
              "      <th>protein</th>\n",
              "      <th>fat</th>\n",
              "      <th>sodium</th>\n",
              "      <th>fiber</th>\n",
              "      <th>carbs</th>\n",
              "      <th>sugars</th>\n",
              "      <th>potass</th>\n",
              "      <th>vitamins</th>\n",
              "      <th>shelf</th>\n",
              "      <th>weight</th>\n",
              "      <th>cups</th>\n",
              "      <th>rating</th>\n",
              "      <th>mfr_A</th>\n",
              "      <th>mfr_G</th>\n",
              "      <th>mfr_K</th>\n",
              "      <th>mfr_N</th>\n",
              "      <th>mfr_P</th>\n",
              "      <th>mfr_Q</th>\n",
              "      <th>mfr_R</th>\n",
              "    </tr>\n",
              "  </thead>\n",
              "  <tbody>\n",
              "    <tr>\n",
              "      <th>0</th>\n",
              "      <td>100% Bran</td>\n",
              "      <td>N</td>\n",
              "      <td>1.0</td>\n",
              "      <td>70</td>\n",
              "      <td>4</td>\n",
              "      <td>1</td>\n",
              "      <td>130</td>\n",
              "      <td>10.0</td>\n",
              "      <td>5.0</td>\n",
              "      <td>6</td>\n",
              "      <td>280</td>\n",
              "      <td>25</td>\n",
              "      <td>3</td>\n",
              "      <td>1.0</td>\n",
              "      <td>0.33</td>\n",
              "      <td>68.402973</td>\n",
              "      <td>0</td>\n",
              "      <td>0</td>\n",
              "      <td>0</td>\n",
              "      <td>1</td>\n",
              "      <td>0</td>\n",
              "      <td>0</td>\n",
              "      <td>0</td>\n",
              "    </tr>\n",
              "    <tr>\n",
              "      <th>1</th>\n",
              "      <td>100% Natural Bran</td>\n",
              "      <td>Q</td>\n",
              "      <td>1.0</td>\n",
              "      <td>120</td>\n",
              "      <td>3</td>\n",
              "      <td>5</td>\n",
              "      <td>15</td>\n",
              "      <td>2.0</td>\n",
              "      <td>8.0</td>\n",
              "      <td>8</td>\n",
              "      <td>135</td>\n",
              "      <td>0</td>\n",
              "      <td>3</td>\n",
              "      <td>1.0</td>\n",
              "      <td>1.00</td>\n",
              "      <td>33.983679</td>\n",
              "      <td>0</td>\n",
              "      <td>0</td>\n",
              "      <td>0</td>\n",
              "      <td>0</td>\n",
              "      <td>0</td>\n",
              "      <td>1</td>\n",
              "      <td>0</td>\n",
              "    </tr>\n",
              "    <tr>\n",
              "      <th>2</th>\n",
              "      <td>All-Bran</td>\n",
              "      <td>K</td>\n",
              "      <td>1.0</td>\n",
              "      <td>70</td>\n",
              "      <td>4</td>\n",
              "      <td>1</td>\n",
              "      <td>260</td>\n",
              "      <td>9.0</td>\n",
              "      <td>7.0</td>\n",
              "      <td>5</td>\n",
              "      <td>320</td>\n",
              "      <td>25</td>\n",
              "      <td>3</td>\n",
              "      <td>1.0</td>\n",
              "      <td>0.33</td>\n",
              "      <td>59.425505</td>\n",
              "      <td>0</td>\n",
              "      <td>0</td>\n",
              "      <td>1</td>\n",
              "      <td>0</td>\n",
              "      <td>0</td>\n",
              "      <td>0</td>\n",
              "      <td>0</td>\n",
              "    </tr>\n",
              "    <tr>\n",
              "      <th>3</th>\n",
              "      <td>All-Bran with Extra Fiber</td>\n",
              "      <td>K</td>\n",
              "      <td>1.0</td>\n",
              "      <td>50</td>\n",
              "      <td>4</td>\n",
              "      <td>0</td>\n",
              "      <td>140</td>\n",
              "      <td>14.0</td>\n",
              "      <td>8.0</td>\n",
              "      <td>0</td>\n",
              "      <td>330</td>\n",
              "      <td>25</td>\n",
              "      <td>3</td>\n",
              "      <td>1.0</td>\n",
              "      <td>0.50</td>\n",
              "      <td>93.704912</td>\n",
              "      <td>0</td>\n",
              "      <td>0</td>\n",
              "      <td>1</td>\n",
              "      <td>0</td>\n",
              "      <td>0</td>\n",
              "      <td>0</td>\n",
              "      <td>0</td>\n",
              "    </tr>\n",
              "    <tr>\n",
              "      <th>4</th>\n",
              "      <td>Almond Delight</td>\n",
              "      <td>R</td>\n",
              "      <td>1.0</td>\n",
              "      <td>110</td>\n",
              "      <td>2</td>\n",
              "      <td>2</td>\n",
              "      <td>200</td>\n",
              "      <td>1.0</td>\n",
              "      <td>14.0</td>\n",
              "      <td>8</td>\n",
              "      <td>-1</td>\n",
              "      <td>25</td>\n",
              "      <td>3</td>\n",
              "      <td>1.0</td>\n",
              "      <td>0.75</td>\n",
              "      <td>34.384843</td>\n",
              "      <td>0</td>\n",
              "      <td>0</td>\n",
              "      <td>0</td>\n",
              "      <td>0</td>\n",
              "      <td>0</td>\n",
              "      <td>0</td>\n",
              "      <td>1</td>\n",
              "    </tr>\n",
              "  </tbody>\n",
              "</table>\n",
              "</div>"
            ],
            "text/plain": [
              "                        name mfr  type  calories  ...  mfr_N  mfr_P  mfr_Q  mfr_R\n",
              "0                  100% Bran   N   1.0        70  ...      1      0      0      0\n",
              "1          100% Natural Bran   Q   1.0       120  ...      0      0      1      0\n",
              "2                   All-Bran   K   1.0        70  ...      0      0      0      0\n",
              "3  All-Bran with Extra Fiber   K   1.0        50  ...      0      0      0      0\n",
              "4             Almond Delight   R   1.0       110  ...      0      0      0      1\n",
              "\n",
              "[5 rows x 23 columns]"
            ]
          },
          "metadata": {
            "tags": []
          },
          "execution_count": 7
        }
      ]
    },
    {
      "cell_type": "markdown",
      "metadata": {
        "id": "Rma78FAV54gw"
      },
      "source": [
        "- feature selection"
      ]
    },
    {
      "cell_type": "code",
      "metadata": {
        "id": "3DKOvUpV14Gt"
      },
      "source": [
        "# drop all unnecessary cols\n",
        "df = df.drop([\"name\", \"mfr\", \"shelf\", \"weight\", \"cups\"], axis=1)\n",
        "# separate predictors from target\n",
        "X, y = (\n",
        "    df[[col for col in df.columns if not col == \"rating\"]],\n",
        "    df[\"rating\"]\n",
        ")"
      ],
      "execution_count": 8,
      "outputs": []
    },
    {
      "cell_type": "markdown",
      "metadata": {
        "id": "aVkTMAkI57zK"
      },
      "source": [
        "- standardizing the values to a Gaussian distribution"
      ]
    },
    {
      "cell_type": "code",
      "metadata": {
        "id": "HDoOQpX546MU"
      },
      "source": [
        "# standardize values\n",
        "scaler = sklearn.preprocessing.StandardScaler()\n",
        "X_scaled = scaler.fit_transform(X)"
      ],
      "execution_count": 9,
      "outputs": []
    },
    {
      "cell_type": "markdown",
      "metadata": {
        "id": "wuS2CKox5r_A"
      },
      "source": [
        "We could also perform PCA, but we'll come back to this later after seeing the results with merely scaling the selected features."
      ]
    },
    {
      "cell_type": "markdown",
      "metadata": {
        "id": "Ntsf22LybwGd"
      },
      "source": [
        "## Step 5: Split the Data\n",
        "Here we will use 75% of the examples for training, and the remaining 25% for testing."
      ]
    },
    {
      "cell_type": "code",
      "metadata": {
        "id": "8Y14WvS55iqZ"
      },
      "source": [
        "X_train_scaled, X_test_scaled, y_train, y_test = train_test_split(X, y, random_state=42, \n",
        "                                                                  train_size=0.75, \n",
        "                                                                  test_size=0.25)"
      ],
      "execution_count": 10,
      "outputs": []
    },
    {
      "cell_type": "markdown",
      "metadata": {
        "id": "5YeqyK4Bb2QM"
      },
      "source": [
        "## Step 6: Fit the Linear Regression Model on Training Data"
      ]
    },
    {
      "cell_type": "code",
      "metadata": {
        "id": "z83vtq-nb95N",
        "colab": {
          "base_uri": "https://localhost:8080/"
        },
        "outputId": "455704fd-7b7f-4264-be92-e7993e63f34a"
      },
      "source": [
        "from sklearn import linear_model\n",
        "\n",
        "# instantiate the regressor\n",
        "model = linear_model.LinearRegression()\n",
        "# train the regressor\n",
        "model.fit(X_train_scaled, y_train)"
      ],
      "execution_count": 11,
      "outputs": [
        {
          "output_type": "execute_result",
          "data": {
            "text/plain": [
              "LinearRegression(copy_X=True, fit_intercept=True, n_jobs=None, normalize=False)"
            ]
          },
          "metadata": {
            "tags": []
          },
          "execution_count": 11
        }
      ]
    },
    {
      "cell_type": "markdown",
      "metadata": {
        "id": "MVewsRcGb-XF"
      },
      "source": [
        "## Step 7: Evaluate the Model on Validation Data\n",
        "- visualize the disparity between the model's predictions and the actual ratings"
      ]
    },
    {
      "cell_type": "code",
      "metadata": {
        "id": "gmysYHBKcFTd",
        "colab": {
          "base_uri": "https://localhost:8080/",
          "height": 389
        },
        "outputId": "b8eebb1f-e84b-4a18-86a5-e8647955273b"
      },
      "source": [
        "def prediction_vs_actual(model, X_test, y_test):  \n",
        "    \"\"\"Overlay the distributions of predicted vs. actual ratings.\"\"\"\n",
        "    # predict ratings w/ the model \n",
        "    y_pred = model.predict(X_test)\n",
        "    # make PDFs of the predictions and the actual ratings\n",
        "    sns.distplot(y_pred, hist=True, kde=True, bins=18, label='Predicted Rating')\n",
        "    sns.distplot(y_test, hist=True, kde=True, bins=18, label='Actual Rating')\n",
        "    # make the plot readable\n",
        "    plt.legend()\n",
        "    plt.title('Histogram of Actual vs. Predicted Cereal Ratings')\n",
        "    plt.show()\n",
        "    return y_pred\n",
        "\n",
        "y_pred = prediction_vs_actual(model, X_test_scaled, y_test)"
      ],
      "execution_count": 12,
      "outputs": [
        {
          "output_type": "stream",
          "text": [
            "/usr/local/lib/python3.7/dist-packages/seaborn/distributions.py:2557: FutureWarning: `distplot` is a deprecated function and will be removed in a future version. Please adapt your code to use either `displot` (a figure-level function with similar flexibility) or `histplot` (an axes-level function for histograms).\n",
            "  warnings.warn(msg, FutureWarning)\n",
            "/usr/local/lib/python3.7/dist-packages/seaborn/distributions.py:2557: FutureWarning: `distplot` is a deprecated function and will be removed in a future version. Please adapt your code to use either `displot` (a figure-level function with similar flexibility) or `histplot` (an axes-level function for histograms).\n",
            "  warnings.warn(msg, FutureWarning)\n"
          ],
          "name": "stderr"
        },
        {
          "output_type": "display_data",
          "data": {
            "image/png": "[encoded data removed]",
            "text/plain": [
              "<Figure size 432x288 with 1 Axes>"
            ]
          },
          "metadata": {
            "tags": []
          }
        }
      ]
    },
    {
      "cell_type": "markdown",
      "metadata": {
        "id": "FNES4JExAr31"
      },
      "source": [
        "What? The distributions perfectly overlay one another?\n",
        "\n",
        "Let's now inspect the MSE of this model, to take a look at this analytically:"
      ]
    },
    {
      "cell_type": "code",
      "metadata": {
        "colab": {
          "base_uri": "https://localhost:8080/"
        },
        "id": "dOF8zaAjA9Oo",
        "outputId": "b46b6036-1fde-45ba-ff8c-093edc68ef47"
      },
      "source": [
        "from sklearn.metrics import mean_squared_error\n",
        "mean_squared_error(y_test, y_pred)"
      ],
      "execution_count": 13,
      "outputs": [
        {
          "output_type": "execute_result",
          "data": {
            "text/plain": [
              "1.1770029505037335e-13"
            ]
          },
          "metadata": {
            "tags": []
          },
          "execution_count": 13
        }
      ]
    },
    {
      "cell_type": "code",
      "metadata": {
        "colab": {
          "base_uri": "https://localhost:8080/"
        },
        "id": "tIz-iaMABwFr",
        "outputId": "bc2fa538-77fd-442c-e568-1b50f833603d"
      },
      "source": [
        "# just another look, we'll also compute the R^2 score\n",
        "from sklearn.metrics import r2_score\n",
        "r2_score(y_test, y_pred)  # Value 0-1, with 1 being the best (yet possibly overfitted) value"
      ],
      "execution_count": 14,
      "outputs": [
        {
          "output_type": "execute_result",
          "data": {
            "text/plain": [
              "0.9999999999999993"
            ]
          },
          "metadata": {
            "tags": []
          },
          "execution_count": 14
        }
      ]
    },
    {
      "cell_type": "markdown",
      "metadata": {
        "id": "ZesoEYloE5Eu"
      },
      "source": [
        "## Step 8: Validation and Conclusion"
      ]
    },
    {
      "cell_type": "markdown",
      "metadata": {
        "id": "LqljgVffFJVf"
      },
      "source": [
        "### Conclusion\n",
        "Based on the graph, MSE, and R^2 metrics suggest that the model is overfit on the data.\n",
        "\n",
        "One reason why this might be occurring is that I gave too many input features to the model.\n",
        "\n",
        "To go forward with regularizing this model, we can try the following:\n",
        "- *Feature Selection*: I could print out the weights of the model for each predictor currently (using `model.coef_`), and then retrain the model with only the columns with the most weights (still keeping in mind the correlation heatmap above, so we don't select highly correlated features). \n",
        "- *Feature Compression*: I could use Principal Component Analysis (aka \"PCA\") to reduce the dimensions of the data used to train the model to just 2 or 3 features.\n",
        "- *More Data Cleaning*: Additionally, I could also remove some rows in the dataset if they contain outlier values."
      ]
    },
    {
      "cell_type": "markdown",
      "metadata": {
        "id": "Y2n2ISwJ_Fft"
      },
      "source": [
        "- **TODO**: do 5-fold cross validation, once we have gotten the model to regularize based on feature selection or PCA (as outlined above)"
      ]
    }
  ]
}