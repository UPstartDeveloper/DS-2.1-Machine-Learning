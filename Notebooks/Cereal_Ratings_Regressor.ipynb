{
  "nbformat": 4,
  "nbformat_minor": 0,
  "metadata": {
    "colab": {
      "name": "Cereal_Ratings.ipynb",
      "provenance": [],
      "authorship_tag": "ABX9TyMmFFbqyH2ru5U9HOPXDj4k",
      "include_colab_link": true
    },
    "kernelspec": {
      "name": "python3",
      "display_name": "Python 3"
    },
    "language_info": {
      "name": "python"
    }
  },
  "cells": [
    {
      "cell_type": "markdown",
      "metadata": {
        "id": "view-in-github",
        "colab_type": "text"
      },
      "source": [
        "<a href=\"https://colab.research.google.com/github/UPstartDeveloper/DS-2.1-Machine-Learning/blob/master/Notebooks/Cereal_Ratings_Regressor.ipynb\" target=\"_parent\"><img src=\"https://colab.research.google.com/assets/colab-badge.svg\" alt=\"Open In Colab\"/></a>"
      ]
    },
    {
      "cell_type": "markdown",
      "metadata": {
        "id": "Xxhq76tlaCMl"
      },
      "source": [
        "Suppose you have the following [dataset](https://docs.google.com/spreadsheets/d/1OyFwsZ77RnGiwSSkTPx6j9V9qyOqitysQij4WW4nhMU/edit#gid=1943041330)*, which is a list of 80 cereals, containing the following fields:\n",
        "\n",
        "`mfr`: Manufacturer of cereal                   \n",
        "- A = American Home Food Products\n",
        "- G = General Mills\n",
        "- K = Kelloggs                \n",
        "- N = Nabisco               \n",
        "- P = Post               \n",
        "- Q = Quaker Oats              \n",
        "- R = Ralston Purina  \n",
        "         \n",
        "`type`:              \n",
        "- cold               \n",
        "- hot \n",
        "\n",
        "`calories`: calories per serving      \n",
        "`protein`: grams of protein per serving          \n",
        "`fat`: grams of fat per serving           \n",
        "`sodium`: milligrams of sodium           \n",
        "`fiber`: grams of dietary fiber           \n",
        "`carbs`: grams of complex carbohydrates           \n",
        "`sugars`: grams of sugars           \n",
        "`potass`: milligrams of potassium           \n",
        "`vitamins`: vitamins and minerals - 0, 25, or 100, indicating the typical percentage of FDA recommended            \n",
        "`shelf`: display shelf (1, 2, or 3, counting from the floor)           \n",
        "`weight`: weight in ounces of one serving           \n",
        "`cups`: number of cups in one serving           \n",
        "`rating`: a rating of the cereals (Possibly from Consumer Reports?)   \n",
        "    \n",
        "Given the above, can you build a model using Python to predict cereal rating? We'll be creating a multivariate linear regression as a solution for premium users."
      ]
    },
    {
      "cell_type": "markdown",
      "metadata": {
        "id": "2QPyvzTCbN-X"
      },
      "source": [
        "# Scikit-Learn Solution"
      ]
    },
    {
      "cell_type": "markdown",
      "metadata": {
        "id": "lMRPQ0WBbDTg"
      },
      "source": [
        "## Step 1: Imports"
      ]
    },
    {
      "cell_type": "code",
      "metadata": {
        "id": "3DMCYO6bZ-Dc"
      },
      "source": [
        "# Machine Learning\n",
        "import sklearn\n",
        "# Data Analysis\n",
        "import numpy as np\n",
        "import pandas as pd\n",
        "import matplotlib.pyplot as plt\n",
        "%matplotlib inline\n",
        "import seaborn as sns\n",
        "# Import Datasets via RESTful requests\n",
        "# import requests\n",
        "# import io"
      ],
      "execution_count": 21,
      "outputs": []
    },
    {
      "cell_type": "markdown",
      "metadata": {
        "id": "WBDlMZaVbLQk"
      },
      "source": [
        "## Step 2: Get the Data"
      ]
    },
    {
      "cell_type": "code",
      "metadata": {
        "colab": {
          "base_uri": "https://localhost:8080/",
          "height": 566
        },
        "id": "M3wHkunMbV6s",
        "outputId": "42271a6f-529d-4959-8b9c-8e3cfc00770a"
      },
      "source": [
        "# you can use the address below to access the dataset from my GitHub repo\n",
        "URL = \"https://raw.githubusercontent.com/UPstartDeveloper/DS-1.1-Data-Analysis/master/Notebooks/Datasets/cereal.csv\"\n",
        "df = pd.read_csv(URL)\n",
        "# verify it came through ok\n",
        "df.head(10)"
      ],
      "execution_count": 6,
      "outputs": [
        {
          "output_type": "execute_result",
          "data": {
            "text/html": [
              "<div>\n",
              "<style scoped>\n",
              "    .dataframe tbody tr th:only-of-type {\n",
              "        vertical-align: middle;\n",
              "    }\n",
              "\n",
              "    .dataframe tbody tr th {\n",
              "        vertical-align: top;\n",
              "    }\n",
              "\n",
              "    .dataframe thead th {\n",
              "        text-align: right;\n",
              "    }\n",
              "</style>\n",
              "<table border=\"1\" class=\"dataframe\">\n",
              "  <thead>\n",
              "    <tr style=\"text-align: right;\">\n",
              "      <th></th>\n",
              "      <th>name</th>\n",
              "      <th>mfr</th>\n",
              "      <th>type</th>\n",
              "      <th>calories</th>\n",
              "      <th>protein</th>\n",
              "      <th>fat</th>\n",
              "      <th>sodium</th>\n",
              "      <th>fiber</th>\n",
              "      <th>carbs</th>\n",
              "      <th>sugars</th>\n",
              "      <th>potass</th>\n",
              "      <th>vitamins</th>\n",
              "      <th>shelf</th>\n",
              "      <th>weight</th>\n",
              "      <th>cups</th>\n",
              "      <th>rating</th>\n",
              "    </tr>\n",
              "  </thead>\n",
              "  <tbody>\n",
              "    <tr>\n",
              "      <th>0</th>\n",
              "      <td>100% Bran</td>\n",
              "      <td>N</td>\n",
              "      <td>C</td>\n",
              "      <td>70</td>\n",
              "      <td>4</td>\n",
              "      <td>1</td>\n",
              "      <td>130</td>\n",
              "      <td>10.0</td>\n",
              "      <td>5.0</td>\n",
              "      <td>6</td>\n",
              "      <td>280</td>\n",
              "      <td>25</td>\n",
              "      <td>3</td>\n",
              "      <td>1.00</td>\n",
              "      <td>0.33</td>\n",
              "      <td>68.402973</td>\n",
              "    </tr>\n",
              "    <tr>\n",
              "      <th>1</th>\n",
              "      <td>100% Natural Bran</td>\n",
              "      <td>Q</td>\n",
              "      <td>C</td>\n",
              "      <td>120</td>\n",
              "      <td>3</td>\n",
              "      <td>5</td>\n",
              "      <td>15</td>\n",
              "      <td>2.0</td>\n",
              "      <td>8.0</td>\n",
              "      <td>8</td>\n",
              "      <td>135</td>\n",
              "      <td>0</td>\n",
              "      <td>3</td>\n",
              "      <td>1.00</td>\n",
              "      <td>1.00</td>\n",
              "      <td>33.983679</td>\n",
              "    </tr>\n",
              "    <tr>\n",
              "      <th>2</th>\n",
              "      <td>All-Bran</td>\n",
              "      <td>K</td>\n",
              "      <td>C</td>\n",
              "      <td>70</td>\n",
              "      <td>4</td>\n",
              "      <td>1</td>\n",
              "      <td>260</td>\n",
              "      <td>9.0</td>\n",
              "      <td>7.0</td>\n",
              "      <td>5</td>\n",
              "      <td>320</td>\n",
              "      <td>25</td>\n",
              "      <td>3</td>\n",
              "      <td>1.00</td>\n",
              "      <td>0.33</td>\n",
              "      <td>59.425505</td>\n",
              "    </tr>\n",
              "    <tr>\n",
              "      <th>3</th>\n",
              "      <td>All-Bran with Extra Fiber</td>\n",
              "      <td>K</td>\n",
              "      <td>C</td>\n",
              "      <td>50</td>\n",
              "      <td>4</td>\n",
              "      <td>0</td>\n",
              "      <td>140</td>\n",
              "      <td>14.0</td>\n",
              "      <td>8.0</td>\n",
              "      <td>0</td>\n",
              "      <td>330</td>\n",
              "      <td>25</td>\n",
              "      <td>3</td>\n",
              "      <td>1.00</td>\n",
              "      <td>0.50</td>\n",
              "      <td>93.704912</td>\n",
              "    </tr>\n",
              "    <tr>\n",
              "      <th>4</th>\n",
              "      <td>Almond Delight</td>\n",
              "      <td>R</td>\n",
              "      <td>C</td>\n",
              "      <td>110</td>\n",
              "      <td>2</td>\n",
              "      <td>2</td>\n",
              "      <td>200</td>\n",
              "      <td>1.0</td>\n",
              "      <td>14.0</td>\n",
              "      <td>8</td>\n",
              "      <td>-1</td>\n",
              "      <td>25</td>\n",
              "      <td>3</td>\n",
              "      <td>1.00</td>\n",
              "      <td>0.75</td>\n",
              "      <td>34.384843</td>\n",
              "    </tr>\n",
              "    <tr>\n",
              "      <th>5</th>\n",
              "      <td>Apple Cinnamon Cheerios</td>\n",
              "      <td>G</td>\n",
              "      <td>C</td>\n",
              "      <td>110</td>\n",
              "      <td>2</td>\n",
              "      <td>2</td>\n",
              "      <td>180</td>\n",
              "      <td>1.5</td>\n",
              "      <td>10.5</td>\n",
              "      <td>10</td>\n",
              "      <td>70</td>\n",
              "      <td>25</td>\n",
              "      <td>1</td>\n",
              "      <td>1.00</td>\n",
              "      <td>0.75</td>\n",
              "      <td>29.509541</td>\n",
              "    </tr>\n",
              "    <tr>\n",
              "      <th>6</th>\n",
              "      <td>Apple Jacks</td>\n",
              "      <td>K</td>\n",
              "      <td>C</td>\n",
              "      <td>110</td>\n",
              "      <td>2</td>\n",
              "      <td>0</td>\n",
              "      <td>125</td>\n",
              "      <td>1.0</td>\n",
              "      <td>11.0</td>\n",
              "      <td>14</td>\n",
              "      <td>30</td>\n",
              "      <td>25</td>\n",
              "      <td>2</td>\n",
              "      <td>1.00</td>\n",
              "      <td>1.00</td>\n",
              "      <td>33.174094</td>\n",
              "    </tr>\n",
              "    <tr>\n",
              "      <th>7</th>\n",
              "      <td>Basic 4</td>\n",
              "      <td>G</td>\n",
              "      <td>C</td>\n",
              "      <td>130</td>\n",
              "      <td>3</td>\n",
              "      <td>2</td>\n",
              "      <td>210</td>\n",
              "      <td>2.0</td>\n",
              "      <td>18.0</td>\n",
              "      <td>8</td>\n",
              "      <td>100</td>\n",
              "      <td>25</td>\n",
              "      <td>3</td>\n",
              "      <td>1.33</td>\n",
              "      <td>0.75</td>\n",
              "      <td>37.038562</td>\n",
              "    </tr>\n",
              "    <tr>\n",
              "      <th>8</th>\n",
              "      <td>Bran Chex</td>\n",
              "      <td>R</td>\n",
              "      <td>C</td>\n",
              "      <td>90</td>\n",
              "      <td>2</td>\n",
              "      <td>1</td>\n",
              "      <td>200</td>\n",
              "      <td>4.0</td>\n",
              "      <td>15.0</td>\n",
              "      <td>6</td>\n",
              "      <td>125</td>\n",
              "      <td>25</td>\n",
              "      <td>1</td>\n",
              "      <td>1.00</td>\n",
              "      <td>0.67</td>\n",
              "      <td>49.120253</td>\n",
              "    </tr>\n",
              "    <tr>\n",
              "      <th>9</th>\n",
              "      <td>Bran Flakes</td>\n",
              "      <td>P</td>\n",
              "      <td>C</td>\n",
              "      <td>90</td>\n",
              "      <td>3</td>\n",
              "      <td>0</td>\n",
              "      <td>210</td>\n",
              "      <td>5.0</td>\n",
              "      <td>13.0</td>\n",
              "      <td>5</td>\n",
              "      <td>190</td>\n",
              "      <td>25</td>\n",
              "      <td>3</td>\n",
              "      <td>1.00</td>\n",
              "      <td>0.67</td>\n",
              "      <td>53.313813</td>\n",
              "    </tr>\n",
              "  </tbody>\n",
              "</table>\n",
              "</div>"
            ],
            "text/plain": [
              "                        name mfr type  calories  ...  shelf  weight  cups     rating\n",
              "0                  100% Bran   N    C        70  ...      3    1.00  0.33  68.402973\n",
              "1          100% Natural Bran   Q    C       120  ...      3    1.00  1.00  33.983679\n",
              "2                   All-Bran   K    C        70  ...      3    1.00  0.33  59.425505\n",
              "3  All-Bran with Extra Fiber   K    C        50  ...      3    1.00  0.50  93.704912\n",
              "4             Almond Delight   R    C       110  ...      3    1.00  0.75  34.384843\n",
              "5    Apple Cinnamon Cheerios   G    C       110  ...      1    1.00  0.75  29.509541\n",
              "6                Apple Jacks   K    C       110  ...      2    1.00  1.00  33.174094\n",
              "7                    Basic 4   G    C       130  ...      3    1.33  0.75  37.038562\n",
              "8                  Bran Chex   R    C        90  ...      1    1.00  0.67  49.120253\n",
              "9                Bran Flakes   P    C        90  ...      3    1.00  0.67  53.313813\n",
              "\n",
              "[10 rows x 16 columns]"
            ]
          },
          "metadata": {
            "tags": []
          },
          "execution_count": 6
        }
      ]
    },
    {
      "cell_type": "markdown",
      "metadata": {
        "id": "TOwcpV5_bWmf"
      },
      "source": [
        "## Step 3: Data Analysis\n"
      ]
    },
    {
      "cell_type": "markdown",
      "metadata": {
        "id": "uvTaTRzciPf3"
      },
      "source": [
        "TODO: look for strong correlations between variables"
      ]
    },
    {
      "cell_type": "code",
      "metadata": {
        "colab": {
          "base_uri": "https://localhost:8080/",
          "height": 639
        },
        "id": "-0LfsaFlbhxU",
        "outputId": "51fa6ef7-1b73-4f8d-e03e-ab90d2f01538"
      },
      "source": [
        "def make_heatmap(df, map_title):\n",
        "    \"\"\"Plots the diagonal correlation matrix of a dataset using Seaborn.\n",
        "\n",
        "       Credit to the Seaborn Documentation for inspiring this cell:\n",
        "       https://seaborn.pydata.org/examples/many_pairwise_correlations.html\n",
        "       \n",
        "       Args:\n",
        "       df(pandas.DataFrame): encapsulates the dataset being used to make heatmap.\n",
        "       map_title(str): the title for the heatmap\n",
        "    \n",
        "    \"\"\"\n",
        "    sns.set(style=\"white\")\n",
        "    # Compute the correlation matrix\n",
        "    corr = df.corr()\n",
        "    # Generate a mask for the upper triangle\n",
        "    mask = np.triu(np.ones_like(corr, dtype=np.bool))\n",
        "    # Set up the matplotlib figure\n",
        "    f, ax = plt.subplots(figsize=(12, 12))\n",
        "    # Generate a custom diverging colormap\n",
        "    cmap = sns.diverging_palette(220, 10, as_cmap=True)\n",
        "    # Draw the heatmap with the mask and correct aspect ratio\n",
        "    sns.heatmap(corr, mask=mask, cmap=cmap, vmax=.3, center=0,\n",
        "                square=True, linewidths=.5, cbar_kws={\"shrink\": .5}, annot=True)\n",
        "    plt.title(map_title)\n",
        "    plt.show()\n",
        "\n",
        "make_heatmap(df, \"Correlations Between Cereal Rating Predictors\")"
      ],
      "execution_count": 22,
      "outputs": [
        {
          "output_type": "display_data",
          "data": {
            "image/png": "[encoded data removed]",
            "text/plain": [
              "<Figure size 864x864 with 2 Axes>"
            ]
          },
          "metadata": {
            "tags": []
          }
        }
      ]
    },
    {
      "cell_type": "markdown",
      "metadata": {
        "id": "jGynC5mVnVzC"
      },
      "source": [
        "Based on the heatmap above, I argue we ought to leave the following variables out of the model:\n",
        "1. `weight`: because it appears to correlate positively with just about every other variable\n",
        "2. `shelf`: this would be irrelevant to what rating a cereal gets in real life, based on how rarely I'd say you hear people talk about it in actual cereal reviews.\n",
        "3. `cups`: similar reason to the `shelf` column, I'd argue this column is contextually irrelevant to the reason a cereal gets a certain rating and not another."
      ]
    },
    {
      "cell_type": "markdown",
      "metadata": {
        "id": "5CEWLru5iTmY"
      },
      "source": [
        "My intuition tells my the `type` column is only one value - let's verify!"
      ]
    },
    {
      "cell_type": "code",
      "metadata": {
        "colab": {
          "base_uri": "https://localhost:8080/"
        },
        "id": "9U55gni4iTXJ",
        "outputId": "f4e50a42-37f9-4370-c065-c584071dccc8"
      },
      "source": [
        "cereal_types = df[\"type\"]\n",
        "print(f\"The 'type' column has {cereal_types.nunique()} unique values.\")"
      ],
      "execution_count": 7,
      "outputs": [
        {
          "output_type": "stream",
          "text": [
            "The 'type' column has 2 unique values.\n"
          ],
          "name": "stdout"
        }
      ]
    },
    {
      "cell_type": "markdown",
      "metadata": {
        "id": "CIScdceVizaP"
      },
      "source": [
        "Ok so I was wrong, let's take a look at the distribution of these values:"
      ]
    },
    {
      "cell_type": "code",
      "metadata": {
        "colab": {
          "base_uri": "https://localhost:8080/",
          "height": 264
        },
        "id": "S3rW4psHixcg",
        "outputId": "4b728833-b639-4e69-fc57-cdff84e26792"
      },
      "source": [
        "plt.pie(cereal_types.value_counts(), labels=cereal_types.unique())\n",
        "plt.title(\"Relative Proportions of Hot & Cold Cereal\")\n",
        "plt.show()"
      ],
      "execution_count": 17,
      "outputs": [
        {
          "output_type": "display_data",
          "data": {
            "image/png": "[encoded data removed]",
            "text/plain": [
              "<Figure size 432x288 with 1 Axes>"
            ]
          },
          "metadata": {
            "tags": []
          }
        }
      ]
    },
    {
      "cell_type": "markdown",
      "metadata": {
        "id": "9NpjvVINkENm"
      },
      "source": [
        "So now we know the overwhelming majority of cereals in the dataset are cold."
      ]
    },
    {
      "cell_type": "markdown",
      "metadata": {
        "id": "DhFB15oDkRkg"
      },
      "source": [
        "Let's also see the relative proportions of the 4 manufacturers represented in the dataset:\n"
      ]
    },
    {
      "cell_type": "code",
      "metadata": {
        "colab": {
          "base_uri": "https://localhost:8080/",
          "height": 264
        },
        "id": "mXf97diSkdVp",
        "outputId": "48ab9b4e-f65c-4ce4-e796-fb903a6f8351"
      },
      "source": [
        "plt.pie(df[\"mfr\"].value_counts(), labels=df[\"mfr\"].unique())\n",
        "plt.title(\"Relative Proportions of Different Cereal Manufacturers\")\n",
        "plt.show()"
      ],
      "execution_count": 18,
      "outputs": [
        {
          "output_type": "display_data",
          "data": {
            "image/png": "[encoded data removed]",
            "text/plain": [
              "<Figure size 432x288 with 1 Axes>"
            ]
          },
          "metadata": {
            "tags": []
          }
        }
      ]
    },
    {
      "cell_type": "markdown",
      "metadata": {
        "id": "xRUjyNkZlgW9"
      },
      "source": [
        "To be honest, I considered leaving this column out of the model because I personally don't think manufacturers should predict with cereal rating. However, since this industry usually doesn't get disrupted very often, I'll leave it in as it could be possible that name brand influences how cereals are rated."
      ]
    },
    {
      "cell_type": "markdown",
      "metadata": {
        "id": "lHRDInhpbjkt"
      },
      "source": [
        "## Step 4: Data Preprocessing\n",
        "- optional: perform PCA\n",
        "- drop columns\n",
        "- standardize values \n",
        "- encode categorical variables (if they're being includeed)"
      ]
    },
    {
      "cell_type": "code",
      "metadata": {
        "id": "NFJijNXVbvoj"
      },
      "source": [
        "# Drop the unnecessary columns - shelf, cups, weight\n",
        "# no PCA now - first normalize the columns using StandardScaler\n",
        "# encode the categorical variables"
      ],
      "execution_count": null,
      "outputs": []
    },
    {
      "cell_type": "markdown",
      "metadata": {
        "id": "Ntsf22LybwGd"
      },
      "source": [
        "## Step 5: Split the Data"
      ]
    },
    {
      "cell_type": "code",
      "metadata": {
        "id": "BNig7qRIb1iE"
      },
      "source": [
        ""
      ],
      "execution_count": null,
      "outputs": []
    },
    {
      "cell_type": "markdown",
      "metadata": {
        "id": "5YeqyK4Bb2QM"
      },
      "source": [
        "## Step 6: Fit the Linear Regression Model on Training Data"
      ]
    },
    {
      "cell_type": "code",
      "metadata": {
        "id": "z83vtq-nb95N"
      },
      "source": [
        ""
      ],
      "execution_count": null,
      "outputs": []
    },
    {
      "cell_type": "markdown",
      "metadata": {
        "id": "MVewsRcGb-XF"
      },
      "source": [
        "## Step 7: Evaluate the Model on Validation Data\n",
        "- TODO: do 5-fold cross validation"
      ]
    },
    {
      "cell_type": "code",
      "metadata": {
        "id": "gmysYHBKcFTd"
      },
      "source": [
        ""
      ],
      "execution_count": null,
      "outputs": []
    }
  ]
}